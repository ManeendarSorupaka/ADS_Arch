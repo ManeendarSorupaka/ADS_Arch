{
  "nbformat": 4,
  "nbformat_minor": 0,
  "metadata": {
    "colab": {
      "name": "walmart_store_sales_forecasting.ipynb",
      "provenance": [],
      "collapsed_sections": []
    },
    "kernelspec": {
      "name": "python3",
      "display_name": "Python 3"
    }
  },
  "cells": [
    {
      "cell_type": "markdown",
      "metadata": {
        "id": "T4al97YrGC_P"
      },
      "source": [
        "**Walmart Store Sales Forecasting**\n",
        "\n",
        "**Abstract**\n",
        "\n",
        "In this assignment, i have summarized the kernels of kaggle in \"Walmart Recruiting - Store Sales Forecasting\" competition. The  historical sales data for 45 Walmart stores located in different regions are provided. The task is to predict the department-wide sales for each store.\n",
        "\n",
        "The data provided is in four csv files (**stores, train, test, and features**). Initially, we explore the data to find missing values and their percentage for each feature, plot their distributions and analyze the data for any transformations to be made and keep them as Takeaways for each dataset. Then, we carry out Data Pre-processing step, we transform the data as desired from our Takeaways listed before.\n",
        "\n",
        "Now, we merge our datasets, perform feature engineering, analyze feature correlation and split the merged datasets using *train_test_split* into train and validation. We now perform ***modeling*** with several candidate models Linear Regression, ElasticNet, RandomForestRegressor, GradientBoostingRegressor, XGBRegressor and LGBMRegressor. We then evaluate the models based on a metric weighted mean absolute error (WMAE) and pick those models with lower WMAE. We tune these models and predict the weekly sales. We blend the results of the models and save the predictions to a csv file.\n"
      ]
    },
    {
      "cell_type": "markdown",
      "metadata": {
        "id": "kSCRwUv7VJMJ"
      },
      "source": [
        "**Data Description**\n",
        "\n",
        "We are provided with historical sales data for 45 Walmart stores located in different regions. Each store contains a number of departments, and we are tasked with predicting the department-wide sales for each store.\n",
        "\n",
        "In addition, Walmart runs several promotional markdown events throughout the year. These markdowns precede prominent holidays, the four largest of which are the Super Bowl, Labor Day, Thanksgiving, and Christmas. The weeks including these holidays are weighted five times higher in the evaluation than non-holiday weeks. Part of the challenge presented by this competition is modeling the effects of markdowns on these holiday weeks in the absence of complete/ideal historical data.\n",
        "\n",
        "**stores.csv**\n",
        "\n",
        "This file contains anonymized information about the 45 stores, indicating the type and size of store.\n",
        "\n",
        "**train.csv**\n",
        "\n",
        "This is the historical training data, which covers to 2010-02-05 to 2012-11-01. Within this file you will find the following fields:\n",
        "\n",
        "* Store - the store number\n",
        "* Dept - the department number\n",
        "* Date - the week\n",
        "* Weekly_Sales -  sales for the given department in the given store\n",
        "* IsHoliday - whether the week is a special holiday week\n",
        "\n",
        "**test.csv**\n",
        "\n",
        "This file is identical to train.csv, except we have withheld the weekly sales. You must predict the sales for each triplet of store, department, and date in this file.\n",
        "\n",
        "**features.csv**\n",
        "\n",
        "This file contains additional data related to the store, department, and regional activity for the given dates. It contains the following fields:\n",
        "\n",
        "* Store - the store number\n",
        "* Date - the week\n",
        "* Temperature - average temperature in the region\n",
        "* Fuel_Price - cost of fuel in the region\n",
        "* MarkDown1-5 - anonymized data related to promotional markdowns that Walmart is running. MarkDown data is only available after Nov 2011, and is not available for all stores all the time. Any missing value is marked with an NA.\n",
        "* CPI - the consumer price index\n",
        "* Unemployment - the unemployment rate\n",
        "* IsHoliday - whether the week is a special holiday week\n",
        "\n",
        "For convenience, the four holidays fall within the following weeks in the dataset (not all holidays are in the data):\n",
        "\n",
        "* Super Bowl: 12-Feb-10, 11-Feb-11, 10-Feb-12, 8-Feb-13\n",
        "* Labor Day: 10-Sep-10, 9-Sep-11, 7-Sep-12, 6-Sep-13\n",
        "* Thanksgiving: 26-Nov-10, 25-Nov-11, 23-Nov-12, 29-Nov-13\n",
        "* Christmas: 31-Dec-10, 30-Dec-11, 28-Dec-12, 27-Dec-13"
      ]
    },
    {
      "cell_type": "code",
      "metadata": {
        "id": "_gJUeqMr4AvX"
      },
      "source": [
        "# Import libraries | Standard\n",
        "import pandas as pd\n",
        "import numpy as np\n",
        "import os\n",
        "import datetime\n",
        "import warnings\n",
        "from time import time\n",
        "\n",
        "# Import libraries | Visualization\n",
        "import seaborn as sns\n",
        "import matplotlib.pyplot as plt\n",
        "import matplotlib.patches as mpatches\n",
        "\n",
        "# Import libraries | Sk-learn\n",
        "from sklearn.preprocessing import MinMaxScaler, RobustScaler\n",
        "from sklearn.model_selection import train_test_split\n",
        "from sklearn.metrics import mean_absolute_error, mean_squared_error, mean_squared_log_error\n",
        "from sklearn.metrics import make_scorer\n",
        "from sklearn.linear_model import LinearRegression, Lasso, ElasticNet\n",
        "from sklearn.ensemble import RandomForestRegressor, GradientBoostingRegressor\n",
        "from sklearn.model_selection import KFold, cross_val_score, GridSearchCV\n",
        "\n",
        "import xgboost as xgb\n",
        "from lightgbm import LGBMRegressor\n",
        "\n",
        "# Pretty display for notebooks\n",
        "%matplotlib inline"
      ],
      "execution_count": 1,
      "outputs": []
    },
    {
      "cell_type": "code",
      "metadata": {
        "id": "6B9Emt_75UIA"
      },
      "source": [
        "pd.set_option('display.max_columns', None)\n",
        "warnings.filterwarnings('ignore')"
      ],
      "execution_count": 2,
      "outputs": []
    },
    {
      "cell_type": "code",
      "metadata": {
        "id": "zlVpNyso5gUv"
      },
      "source": [
        "def distribution(data, features, transformed = False):\n",
        "    \"\"\"\n",
        "    Visualization code for displaying distributions of features\n",
        "    \"\"\"\n",
        "    \n",
        "    # Create figure\n",
        "    fig = plt.figure(figsize = (11,5));\n",
        "\n",
        "    # Skewed feature plotting\n",
        "    for i, feature in enumerate(features):\n",
        "        ax = fig.add_subplot(1, 2, i+1)\n",
        "        ax.hist(data[feature], bins = 25, color = '#00A0A0')\n",
        "        ax.set_title(\"'%s' Feature Distribution\"%(feature), fontsize = 14)\n",
        "        ax.set_xlabel(\"Value\")\n",
        "        ax.set_ylabel(\"Number of Records\")\n",
        "        ax.set_ylim((0, 2000))\n",
        "        ax.set_yticks([0, 500, 1000, 1500, 2000])\n",
        "        ax.set_yticklabels([0, 500, 1000, 1500, \">2000\"])\n",
        "\n",
        "    # Plot aesthetics\n",
        "    if transformed:\n",
        "        fig.suptitle(\"Log-transformed Distributions of Continuous Data Features\", \\\n",
        "            fontsize = 16, y = 1.03)\n",
        "    else:\n",
        "        fig.suptitle(\"Distributions of Continuous Data Features\", \\\n",
        "            fontsize = 16, y = 1.03)\n",
        "\n",
        "    fig.tight_layout()\n",
        "    fig.show()"
      ],
      "execution_count": 3,
      "outputs": []
    },
    {
      "cell_type": "code",
      "metadata": {
        "id": "eY7OsOYq55FF"
      },
      "source": [
        "def eval_train_predict(learner, sample_size, train_X, train_y, test_X, test_y, transform_y, log_constant): \n",
        "    '''\n",
        "    inputs:\n",
        "       - learner: the learning algorithm to be trained and predicted on\n",
        "       - sample_size: the size of samples (number) to be drawn from training set       \n",
        "       - train_X: features training set\n",
        "       - train_y: sales training set\n",
        "       - test_X: features testing set\n",
        "       - test_y: sales testing set\n",
        "    '''\n",
        "    \n",
        "    results = {}\n",
        "    \n",
        "    # Fit the learner to the training data\n",
        "    start = time() # Get start time\n",
        "    learner = learner.fit(train_X[:sample_size], train_y[:sample_size])\n",
        "    end = time() # Get end time\n",
        "    \n",
        "    # Calculate the training time\n",
        "    results['time_train'] = end - start\n",
        "        \n",
        "    # Get the predictions on the test set(X_test),\n",
        "    start = time() # Get start time\n",
        "    predictions = learner.predict(test_X)\n",
        "    end = time() # Get end time\n",
        "    \n",
        "    # Calculate the total prediction time\n",
        "    results['time_pred'] = end - start\n",
        "            \n",
        "    # Compute Weighted Mean Absolute Error on Test Set\n",
        "    if transform_y == 'log':\n",
        "        results['WMAE'] = weighted_mean_absolute_error(np.exp(test_y) - 1 - log_constant, \n",
        "                                                       np.exp(predictions) - 1 - log_constant, \n",
        "                                                       compute_weights(test_X['IsHoliday']))\n",
        "    else:\n",
        "        results['WMAE'] = weighted_mean_absolute_error(test_y, predictions, compute_weights(test_X['IsHoliday']))\n",
        "                   \n",
        "    # Success\n",
        "    print(\"{} trained on {} samples.\".format(learner.__class__.__name__, sample_size))\n",
        "        \n",
        "    # Return the results\n",
        "    return results\n"
      ],
      "execution_count": 4,
      "outputs": []
    },
    {
      "cell_type": "code",
      "metadata": {
        "id": "A2GcKd3z58xy"
      },
      "source": [
        "def eval_visualize(results):\n",
        "    \"\"\"\n",
        "    Visualization code to display results of various learners.\n",
        "    \n",
        "    inputs:\n",
        "      - learners: a list of supervised learners\n",
        "      - stats: a list of dictionaries of the statistic results from 'train_predict()'\n",
        "    \"\"\"\n",
        "  \n",
        "    # Create figure\n",
        "    fig, ax = plt.subplots(1, 3, figsize = (18,8))\n",
        "\n",
        "    # Constants\n",
        "    bar_width = 0.1\n",
        "    colors = ['#A00000','#00A0A0','#00A000','#E3DAC9','#555555', '#87CEEB']\n",
        "    metrics = ['time_train', 'time_pred', 'WMAE']\n",
        "    \n",
        "    # Super loop to plot four panels of data\n",
        "    for k, learner in enumerate(results.keys()):\n",
        "        for j, metric in enumerate(metrics):\n",
        "            # Creative plot code\n",
        "            ax[j%3].bar(0+k*bar_width, results[learner][0][metric], width = bar_width, color = colors[k])\n",
        "            ax[j%3].set_xlabel(\"Models\")\n",
        "            ax[j%3].set_xticklabels([''])\n",
        "                \n",
        "    # Add unique y-labels\n",
        "    ax[0].set_ylabel(\"Time (in seconds)\")\n",
        "    ax[1].set_ylabel(\"Time (in seconds)\")\n",
        "    ax[2].set_ylabel(\"WMAE\")\n",
        "    \n",
        "    # Add titles\n",
        "    ax[0].set_title(\"Model Training\")\n",
        "    ax[1].set_title(\"Model Predicting\")\n",
        "    ax[2].set_title(\"WMAE on Testing Set\")\n",
        " \n",
        "    # Create patches for the legend\n",
        "    patches = []\n",
        "    for i, learner in enumerate(results.keys()):\n",
        "        patches.append(mpatches.Patch(color = colors[i], label = learner))\n",
        "    plt.legend(handles = patches, bbox_to_anchor = (-.80, 2.43), \\\n",
        "               loc = 'upper center', borderaxespad = 0., ncol = 3, fontsize = 'x-large')\n",
        "    \n",
        "    # Aesthetics\n",
        "    plt.suptitle(\"Performance Metrics for Supervised Learning Models\", fontsize = 16, y = 1.10)\n",
        "    plt.tight_layout()\n",
        "    plt.show()"
      ],
      "execution_count": 5,
      "outputs": []
    },
    {
      "cell_type": "code",
      "metadata": {
        "id": "LnfaY1AI6BeH"
      },
      "source": [
        "def train_predict(learner, train_X, train_y, test_X, test_y, transform_y, log_constant, verbose=0): \n",
        "    '''\n",
        "    inputs:\n",
        "       - learner: the learning algorithm to be trained and predicted on\n",
        "       - train_X: features training set\n",
        "       - train_y: sales training set\n",
        "       - test_X: features testing set\n",
        "       - test_y: sales testing set\n",
        "    '''\n",
        "    \n",
        "    results = {}\n",
        "    \n",
        "    # Fit the learner to the training data\n",
        "    start = time() # Get start time\n",
        "    learner = learner.fit(train_X, train_y)\n",
        "    end = time() # Get end time\n",
        "    \n",
        "    # Calculate the training time\n",
        "    results['time_train'] = end - start\n",
        "        \n",
        "    # Get the predictions on the test set(X_test),\n",
        "    start = time() # Get start time\n",
        "    predictions = learner.predict(test_X)\n",
        "    end = time() # Get end time\n",
        "    \n",
        "    # Calculate the total prediction time\n",
        "    results['time_pred'] = end - start\n",
        "            \n",
        "    # Compute Weighted Mean Absolute Error on Test Set\n",
        "    if transform_y == 'log':\n",
        "        results['WMAE'] = weighted_mean_absolute_error(np.exp(test_y) - 1 - log_constant, \n",
        "                                                       np.exp(predictions) - 1 - log_constant, \n",
        "                                                       compute_weights(test_X['IsHoliday']))\n",
        "    else:\n",
        "        results['WMAE'] = weighted_mean_absolute_error(test_y, predictions, compute_weights(test_X['IsHoliday']))\n",
        "    \n",
        "\n",
        "    #Extract the feature importances\n",
        "    importances = learner.feature_importances_\n",
        "\n",
        "    # Success\n",
        "    print(\"Learner Name :\", learner.__class__.__name__)\n",
        "    print(\"Training     :\", round(results['time_train'],2), \"secs /\", len(train_y), \"records\")\n",
        "    print(\"Predicting   :\", round(results['time_pred'],2), \"secs /\", len(test_y), \"records\")\n",
        "    print(\"Weighted MAE :\", round(results['WMAE'],2))\n",
        "\n",
        "    if verbose == 1:\n",
        "        # Plot\n",
        "        print(\"\\n<Feature Importance>\\n\")\n",
        "        feature_plot(importances, train_X, train_y, 10)\n",
        "\n",
        "        print(\"\\n<Feature Weightage>\\n\")\n",
        "        topk = len(train_X.columns)\n",
        "        indices = np.argsort(importances)[::-1]\n",
        "        columns = train_X.columns.values[indices[:topk]]\n",
        "        values = importances[indices][:topk]\n",
        "\n",
        "        for i in range(topk):\n",
        "            print('\\t' + columns[i] + (' ' * (15 - len(columns[i])) + ': ' + str(values[i])))\n",
        "            \n",
        "        print(\"\\n<Learner Params>\\n\", model.get_params())\n",
        "    \n",
        "    # Return the model & predictions\n",
        "    return (learner, predictions)"
      ],
      "execution_count": 6,
      "outputs": []
    },
    {
      "cell_type": "code",
      "metadata": {
        "id": "rbSFBh8l6Nan"
      },
      "source": [
        "def feature_plot(importances, train_X, train_y, topk=5):\n",
        "    \n",
        "    # Display the most important features\n",
        "    indices = np.argsort(importances)[::-1]\n",
        "    columns = train_X.columns.values[indices[:topk]]\n",
        "    values = importances[indices][:topk]\n",
        "\n",
        "    # Creat the plot\n",
        "    fig = plt.figure(figsize = (18,5))\n",
        "    plt.title(\"Normalized Weights for First \" + str(topk) + \" Most Predictive Features\", fontsize = 16)\n",
        "    plt.bar(np.arange(topk), values, width = 0.6, align=\"center\", color = '#00A000', \\\n",
        "          label = \"Feature Weight\")\n",
        "    plt.bar(np.arange(topk) - 0.3, np.cumsum(values), width = 0.2, align = \"center\", color = '#00A0A0', \\\n",
        "          label = \"Cumulative Feature Weight\")\n",
        "    plt.xticks(np.arange(topk), columns)\n",
        "    plt.xlim((-0.5, 9.5))\n",
        "    plt.ylabel(\"Weight\", fontsize = 12)\n",
        "    plt.xlabel(\"Feature\", fontsize = 12)\n",
        "    \n",
        "    plt.legend(loc = 'upper left')\n",
        "    plt.tight_layout()\n",
        "    plt.show()  "
      ],
      "execution_count": 7,
      "outputs": []
    },
    {
      "cell_type": "code",
      "metadata": {
        "id": "zdDPHQFj6RV-"
      },
      "source": [
        "def reduce_mem_usage(df, verbose=True):\n",
        "    \"\"\" iterate through all the columns of a dataframe and modify the data type\n",
        "        to reduce memory usage.        \n",
        "    \"\"\"    \n",
        "    numerics = ['int16', 'int32', 'int64', 'float16', 'float32', 'float64']\n",
        "    start_mem = df.memory_usage().sum() / 1024**2    \n",
        "    print('Memory usage of dataframe is {:.2f} MB'.format(start_mem))    \n",
        "    \n",
        "    for col in df.columns:\n",
        "        col_type = df[col].dtypes\n",
        "        if col_type in numerics:\n",
        "            c_min = df[col].min()\n",
        "            c_max = df[col].max()\n",
        "            if str(col_type)[:3] == 'int':\n",
        "                if c_min > np.iinfo(np.int8).min and c_max < np.iinfo(np.int8).max:\n",
        "                    df[col] = df[col].astype(np.int8)\n",
        "                elif c_min > np.iinfo(np.int16).min and c_max < np.iinfo(np.int16).max:\n",
        "                    df[col] = df[col].astype(np.int16)\n",
        "                elif c_min > np.iinfo(np.int32).min and c_max < np.iinfo(np.int32).max:\n",
        "                    df[col] = df[col].astype(np.int32)\n",
        "                elif c_min > np.iinfo(np.int64).min and c_max < np.iinfo(np.int64).max:\n",
        "                    df[col] = df[col].astype(np.int64)  \n",
        "            else:\n",
        "                if c_min > np.finfo(np.float16).min and c_max < np.finfo(np.float16).max:\n",
        "                    df[col] = df[col].astype(np.float16)\n",
        "                elif c_min > np.finfo(np.float32).min and c_max < np.finfo(np.float32).max:\n",
        "                    df[col] = df[col].astype(np.float32)\n",
        "                else:\n",
        "                    df[col] = df[col].astype(np.float64)    \n",
        "    end_mem = df.memory_usage().sum() / 1024**2\n",
        "    print('Memory usage after optimization is: {:.2f} MB'.format(end_mem))\n",
        "    print('Decreased by {:.1f}%'.format(100 * (start_mem - end_mem) / start_mem))\n",
        "    return df"
      ],
      "execution_count": 8,
      "outputs": []
    },
    {
      "cell_type": "code",
      "metadata": {
        "id": "kls9CADs6TGB"
      },
      "source": [
        "def compute_weights(holidays):\n",
        "    return holidays.apply(lambda x: 1 if x==0 else 5)"
      ],
      "execution_count": 9,
      "outputs": []
    },
    {
      "cell_type": "code",
      "metadata": {
        "id": "p6U6ecI66XbQ"
      },
      "source": [
        "def weighted_mean_absolute_error(pred_y, test_y, weights):\n",
        "    return 1/sum(weights) * sum(weights * abs(test_y - pred_y))"
      ],
      "execution_count": 10,
      "outputs": []
    },
    {
      "cell_type": "code",
      "metadata": {
        "id": "LkxSs-vP7Mn5"
      },
      "source": [
        "# Read input files\n",
        "\n",
        "features = pd.read_csv('https://raw.githubusercontent.com/ManeendarSorupaka/Google_Colab/master/walmartStoreSales/features.csv')\n",
        "train = pd.read_csv('https://raw.githubusercontent.com/ManeendarSorupaka/Google_Colab/master/walmartStoreSales/train.csv')\n",
        "stores = pd.read_csv('https://raw.githubusercontent.com/ManeendarSorupaka/Google_Colab/master/walmartStoreSales/stores.csv')\n",
        "test = pd.read_csv('https://raw.githubusercontent.com/ManeendarSorupaka/Google_Colab/master/walmartStoreSales/test.csv')\n",
        "# sample_submission = pd.read_csv('../input/walmart-recruiting-store-sales-forecasting/sampleSubmission.csv.zip')"
      ],
      "execution_count": 11,
      "outputs": []
    },
    {
      "cell_type": "markdown",
      "metadata": {
        "id": "EnFor1wC8ti3"
      },
      "source": [
        "**Data Exploration**"
      ]
    },
    {
      "cell_type": "markdown",
      "metadata": {
        "id": "MDO_ww_n8xfT"
      },
      "source": [
        "**Stores Data**"
      ]
    },
    {
      "cell_type": "code",
      "metadata": {
        "id": "KmCkQWWg8r4X",
        "colab": {
          "base_uri": "https://localhost:8080/",
          "height": 202
        },
        "outputId": "0f93ae20-b948-4c03-caaf-9dd725064b13"
      },
      "source": [
        "stores.head()"
      ],
      "execution_count": 12,
      "outputs": [
        {
          "output_type": "execute_result",
          "data": {
            "text/html": [
              "<div>\n",
              "<style scoped>\n",
              "    .dataframe tbody tr th:only-of-type {\n",
              "        vertical-align: middle;\n",
              "    }\n",
              "\n",
              "    .dataframe tbody tr th {\n",
              "        vertical-align: top;\n",
              "    }\n",
              "\n",
              "    .dataframe thead th {\n",
              "        text-align: right;\n",
              "    }\n",
              "</style>\n",
              "<table border=\"1\" class=\"dataframe\">\n",
              "  <thead>\n",
              "    <tr style=\"text-align: right;\">\n",
              "      <th></th>\n",
              "      <th>Store</th>\n",
              "      <th>Type</th>\n",
              "      <th>Size</th>\n",
              "    </tr>\n",
              "  </thead>\n",
              "  <tbody>\n",
              "    <tr>\n",
              "      <th>0</th>\n",
              "      <td>1</td>\n",
              "      <td>A</td>\n",
              "      <td>151315</td>\n",
              "    </tr>\n",
              "    <tr>\n",
              "      <th>1</th>\n",
              "      <td>2</td>\n",
              "      <td>A</td>\n",
              "      <td>202307</td>\n",
              "    </tr>\n",
              "    <tr>\n",
              "      <th>2</th>\n",
              "      <td>3</td>\n",
              "      <td>B</td>\n",
              "      <td>37392</td>\n",
              "    </tr>\n",
              "    <tr>\n",
              "      <th>3</th>\n",
              "      <td>4</td>\n",
              "      <td>A</td>\n",
              "      <td>205863</td>\n",
              "    </tr>\n",
              "    <tr>\n",
              "      <th>4</th>\n",
              "      <td>5</td>\n",
              "      <td>B</td>\n",
              "      <td>34875</td>\n",
              "    </tr>\n",
              "  </tbody>\n",
              "</table>\n",
              "</div>"
            ],
            "text/plain": [
              "   Store Type    Size\n",
              "0      1    A  151315\n",
              "1      2    A  202307\n",
              "2      3    B   37392\n",
              "3      4    A  205863\n",
              "4      5    B   34875"
            ]
          },
          "metadata": {
            "tags": []
          },
          "execution_count": 12
        }
      ]
    },
    {
      "cell_type": "code",
      "metadata": {
        "id": "I1tPCu-t9Kwk",
        "colab": {
          "base_uri": "https://localhost:8080/"
        },
        "outputId": "8aec2cb4-60c0-4154-c27c-a21c8ae2ed01"
      },
      "source": [
        "stores.info()"
      ],
      "execution_count": 13,
      "outputs": [
        {
          "output_type": "stream",
          "text": [
            "<class 'pandas.core.frame.DataFrame'>\n",
            "RangeIndex: 45 entries, 0 to 44\n",
            "Data columns (total 3 columns):\n",
            " #   Column  Non-Null Count  Dtype \n",
            "---  ------  --------------  ----- \n",
            " 0   Store   45 non-null     int64 \n",
            " 1   Type    45 non-null     object\n",
            " 2   Size    45 non-null     int64 \n",
            "dtypes: int64(2), object(1)\n",
            "memory usage: 1.2+ KB\n"
          ],
          "name": "stdout"
        }
      ]
    },
    {
      "cell_type": "code",
      "metadata": {
        "id": "OpVgYm2C9QcP",
        "colab": {
          "base_uri": "https://localhost:8080/",
          "height": 294
        },
        "outputId": "b8eea690-8b85-489f-8e78-896df33bd5c3"
      },
      "source": [
        "stores.describe()"
      ],
      "execution_count": 14,
      "outputs": [
        {
          "output_type": "execute_result",
          "data": {
            "text/html": [
              "<div>\n",
              "<style scoped>\n",
              "    .dataframe tbody tr th:only-of-type {\n",
              "        vertical-align: middle;\n",
              "    }\n",
              "\n",
              "    .dataframe tbody tr th {\n",
              "        vertical-align: top;\n",
              "    }\n",
              "\n",
              "    .dataframe thead th {\n",
              "        text-align: right;\n",
              "    }\n",
              "</style>\n",
              "<table border=\"1\" class=\"dataframe\">\n",
              "  <thead>\n",
              "    <tr style=\"text-align: right;\">\n",
              "      <th></th>\n",
              "      <th>Store</th>\n",
              "      <th>Size</th>\n",
              "    </tr>\n",
              "  </thead>\n",
              "  <tbody>\n",
              "    <tr>\n",
              "      <th>count</th>\n",
              "      <td>45.000000</td>\n",
              "      <td>45.000000</td>\n",
              "    </tr>\n",
              "    <tr>\n",
              "      <th>mean</th>\n",
              "      <td>23.000000</td>\n",
              "      <td>130287.600000</td>\n",
              "    </tr>\n",
              "    <tr>\n",
              "      <th>std</th>\n",
              "      <td>13.133926</td>\n",
              "      <td>63825.271991</td>\n",
              "    </tr>\n",
              "    <tr>\n",
              "      <th>min</th>\n",
              "      <td>1.000000</td>\n",
              "      <td>34875.000000</td>\n",
              "    </tr>\n",
              "    <tr>\n",
              "      <th>25%</th>\n",
              "      <td>12.000000</td>\n",
              "      <td>70713.000000</td>\n",
              "    </tr>\n",
              "    <tr>\n",
              "      <th>50%</th>\n",
              "      <td>23.000000</td>\n",
              "      <td>126512.000000</td>\n",
              "    </tr>\n",
              "    <tr>\n",
              "      <th>75%</th>\n",
              "      <td>34.000000</td>\n",
              "      <td>202307.000000</td>\n",
              "    </tr>\n",
              "    <tr>\n",
              "      <th>max</th>\n",
              "      <td>45.000000</td>\n",
              "      <td>219622.000000</td>\n",
              "    </tr>\n",
              "  </tbody>\n",
              "</table>\n",
              "</div>"
            ],
            "text/plain": [
              "           Store           Size\n",
              "count  45.000000      45.000000\n",
              "mean   23.000000  130287.600000\n",
              "std    13.133926   63825.271991\n",
              "min     1.000000   34875.000000\n",
              "25%    12.000000   70713.000000\n",
              "50%    23.000000  126512.000000\n",
              "75%    34.000000  202307.000000\n",
              "max    45.000000  219622.000000"
            ]
          },
          "metadata": {
            "tags": []
          },
          "execution_count": 14
        }
      ]
    },
    {
      "cell_type": "code",
      "metadata": {
        "id": "G_CcpX999UQO",
        "colab": {
          "base_uri": "https://localhost:8080/",
          "height": 141
        },
        "outputId": "0806e5b8-82dd-4b57-e6cf-513c7ee04838"
      },
      "source": [
        "#missing data\n",
        "total = stores.isnull().sum().sort_values(ascending=False)\n",
        "percent = (stores.isnull().sum()/stores.isnull().count()).sort_values(ascending=False)\n",
        "missing_data = pd.concat([total, percent], axis=1, keys=['Total', 'Percent'])\n",
        "missing_data.head(20)"
      ],
      "execution_count": 15,
      "outputs": [
        {
          "output_type": "execute_result",
          "data": {
            "text/html": [
              "<div>\n",
              "<style scoped>\n",
              "    .dataframe tbody tr th:only-of-type {\n",
              "        vertical-align: middle;\n",
              "    }\n",
              "\n",
              "    .dataframe tbody tr th {\n",
              "        vertical-align: top;\n",
              "    }\n",
              "\n",
              "    .dataframe thead th {\n",
              "        text-align: right;\n",
              "    }\n",
              "</style>\n",
              "<table border=\"1\" class=\"dataframe\">\n",
              "  <thead>\n",
              "    <tr style=\"text-align: right;\">\n",
              "      <th></th>\n",
              "      <th>Total</th>\n",
              "      <th>Percent</th>\n",
              "    </tr>\n",
              "  </thead>\n",
              "  <tbody>\n",
              "    <tr>\n",
              "      <th>Size</th>\n",
              "      <td>0</td>\n",
              "      <td>0.0</td>\n",
              "    </tr>\n",
              "    <tr>\n",
              "      <th>Type</th>\n",
              "      <td>0</td>\n",
              "      <td>0.0</td>\n",
              "    </tr>\n",
              "    <tr>\n",
              "      <th>Store</th>\n",
              "      <td>0</td>\n",
              "      <td>0.0</td>\n",
              "    </tr>\n",
              "  </tbody>\n",
              "</table>\n",
              "</div>"
            ],
            "text/plain": [
              "       Total  Percent\n",
              "Size       0      0.0\n",
              "Type       0      0.0\n",
              "Store      0      0.0"
            ]
          },
          "metadata": {
            "tags": []
          },
          "execution_count": 15
        }
      ]
    },
    {
      "cell_type": "code",
      "metadata": {
        "id": "0Cx8snTH9ZZG",
        "colab": {
          "base_uri": "https://localhost:8080/"
        },
        "outputId": "09086644-c815-4726-b923-2d8881e3e58e"
      },
      "source": [
        "stores['Size'].groupby(stores['Type']).mean()"
      ],
      "execution_count": 16,
      "outputs": [
        {
          "output_type": "execute_result",
          "data": {
            "text/plain": [
              "Type\n",
              "A    177247.727273\n",
              "B    101190.705882\n",
              "C     40541.666667\n",
              "Name: Size, dtype: float64"
            ]
          },
          "metadata": {
            "tags": []
          },
          "execution_count": 16
        }
      ]
    },
    {
      "cell_type": "code",
      "metadata": {
        "id": "JhEdUz199gy3",
        "colab": {
          "base_uri": "https://localhost:8080/",
          "height": 388
        },
        "outputId": "fb101c50-cff9-46e7-8abe-f0fe15122d1f"
      },
      "source": [
        "# Create figure\n",
        "#plt.figure()\n",
        "#plt.scatter(stores['Type'], stores['Store'])\n",
        "#plt.ylabel('Store ID')\n",
        "#plt.xlabel('Store Type')\n",
        "\n",
        "# plot for store Type vs Number of stores\n",
        "fig, ax = plt.subplots(1, 2, figsize = (15,6))\n",
        "ax[0].bar(stores['Type'].unique(), stores['Size'].groupby(stores['Type']).count())\n",
        "ax[0].set_ylabel('# of Stores')\n",
        "ax[0].set_xlabel('Store Type')\n",
        "ax[0].yaxis.grid(True, linewidth=0.3)\n",
        "\n",
        "# plot for store Type vs Store Size (depicting average store size)\n",
        "ax[1].scatter(stores['Type'], stores['Size'])\n",
        "ax[1].scatter(stores['Type'].unique(), stores['Size'].groupby(stores['Type']).mean()) #Store Type Average Store Size Vs \n",
        "ax[1].set_ylabel('Store Size (Total / Average)')\n",
        "ax[1].set_xlabel('Store Type')\n",
        "ax[1].yaxis.grid(True, linewidth=0.3)\n",
        "\n",
        "#plt.figure(figsize=(6,6))\n",
        "#plt.yticks(np.arange(len(features_missing)),features_missing.index,rotation='horizontal')\n",
        "#plt.xlabel('fraction of rows with missing data')\n",
        "#plt.barh(np.arange(len(features_missing)), features_missing)"
      ],
      "execution_count": 17,
      "outputs": [
        {
          "output_type": "display_data",
          "data": {
            "image/png": "[encoded data removed]",
            "text/plain": [
              "<Figure size 1080x432 with 2 Axes>"
            ]
          },
          "metadata": {
            "tags": [],
            "needs_background": "light"
          }
        }
      ]
    },
    {
      "cell_type": "code",
      "metadata": {
        "id": "7hhkKLAn_Wwh",
        "colab": {
          "base_uri": "https://localhost:8080/",
          "height": 171
        },
        "outputId": "551620fe-b92b-43f3-8541-3f7f43ce65b8"
      },
      "source": [
        "stores[(stores['Size'] < 40000) & (~stores['Type'].isin(['C']))]"
      ],
      "execution_count": 18,
      "outputs": [
        {
          "output_type": "execute_result",
          "data": {
            "text/html": [
              "<div>\n",
              "<style scoped>\n",
              "    .dataframe tbody tr th:only-of-type {\n",
              "        vertical-align: middle;\n",
              "    }\n",
              "\n",
              "    .dataframe tbody tr th {\n",
              "        vertical-align: top;\n",
              "    }\n",
              "\n",
              "    .dataframe thead th {\n",
              "        text-align: right;\n",
              "    }\n",
              "</style>\n",
              "<table border=\"1\" class=\"dataframe\">\n",
              "  <thead>\n",
              "    <tr style=\"text-align: right;\">\n",
              "      <th></th>\n",
              "      <th>Store</th>\n",
              "      <th>Type</th>\n",
              "      <th>Size</th>\n",
              "    </tr>\n",
              "  </thead>\n",
              "  <tbody>\n",
              "    <tr>\n",
              "      <th>2</th>\n",
              "      <td>3</td>\n",
              "      <td>B</td>\n",
              "      <td>37392</td>\n",
              "    </tr>\n",
              "    <tr>\n",
              "      <th>4</th>\n",
              "      <td>5</td>\n",
              "      <td>B</td>\n",
              "      <td>34875</td>\n",
              "    </tr>\n",
              "    <tr>\n",
              "      <th>32</th>\n",
              "      <td>33</td>\n",
              "      <td>A</td>\n",
              "      <td>39690</td>\n",
              "    </tr>\n",
              "    <tr>\n",
              "      <th>35</th>\n",
              "      <td>36</td>\n",
              "      <td>A</td>\n",
              "      <td>39910</td>\n",
              "    </tr>\n",
              "  </tbody>\n",
              "</table>\n",
              "</div>"
            ],
            "text/plain": [
              "    Store Type   Size\n",
              "2       3    B  37392\n",
              "4       5    B  34875\n",
              "32     33    A  39690\n",
              "35     36    A  39910"
            ]
          },
          "metadata": {
            "tags": []
          },
          "execution_count": 18
        }
      ]
    },
    {
      "cell_type": "code",
      "metadata": {
        "id": "dxOpyJFq_d-T",
        "colab": {
          "base_uri": "https://localhost:8080/",
          "height": 307
        },
        "outputId": "1382b6e3-29a6-48d9-a735-d69cc70ba322"
      },
      "source": [
        "#Explore Weekly Sales - histogram\n",
        "sns.distplot(stores['Size'])"
      ],
      "execution_count": 19,
      "outputs": [
        {
          "output_type": "execute_result",
          "data": {
            "text/plain": [
              "<matplotlib.axes._subplots.AxesSubplot at 0x7fa3585e2fd0>"
            ]
          },
          "metadata": {
            "tags": []
          },
          "execution_count": 19
        },
        {
          "output_type": "display_data",
          "data": {
            "image/png": "[encoded data removed]",
            "text/plain": [
              "<Figure size 432x288 with 1 Axes>"
            ]
          },
          "metadata": {
            "tags": [],
            "needs_background": "light"
          }
        }
      ]
    },
    {
      "cell_type": "markdown",
      "metadata": {
        "id": "zOLjHSfl_rbE"
      },
      "source": [
        "Takeaways:\n",
        "\n",
        "\n",
        "1.   Column TYPE is a candidate for one-hot encoding.\n",
        "2.   Most stores are of TYPE='A'. Only a few stores are of TYPE='C'.\n",
        "3.   TYPE columns seem to be linked to Store Size. Average store size of   TYPE 'A' is ~ 175k, TYPE 'B' is ~ 100k and TYPE 'C' is ~40k\n",
        "4.    Four stores [3, 5, 33 & 36] whose size is < 40k, seem to have been incorrectly tagged as Types A & B\n",
        "\n"
      ]
    },
    {
      "cell_type": "markdown",
      "metadata": {
        "id": "OvFnJYGtAI4N"
      },
      "source": [
        "**Features data**"
      ]
    },
    {
      "cell_type": "code",
      "metadata": {
        "id": "sQ3yvQJzAL8T",
        "colab": {
          "base_uri": "https://localhost:8080/",
          "height": 202
        },
        "outputId": "340d8beb-33ec-4d29-d1e8-1a4c9ccf51fb"
      },
      "source": [
        "features.head()"
      ],
      "execution_count": 20,
      "outputs": [
        {
          "output_type": "execute_result",
          "data": {
            "text/html": [
              "<div>\n",
              "<style scoped>\n",
              "    .dataframe tbody tr th:only-of-type {\n",
              "        vertical-align: middle;\n",
              "    }\n",
              "\n",
              "    .dataframe tbody tr th {\n",
              "        vertical-align: top;\n",
              "    }\n",
              "\n",
              "    .dataframe thead th {\n",
              "        text-align: right;\n",
              "    }\n",
              "</style>\n",
              "<table border=\"1\" class=\"dataframe\">\n",
              "  <thead>\n",
              "    <tr style=\"text-align: right;\">\n",
              "      <th></th>\n",
              "      <th>Store</th>\n",
              "      <th>Date</th>\n",
              "      <th>Temperature</th>\n",
              "      <th>Fuel_Price</th>\n",
              "      <th>MarkDown1</th>\n",
              "      <th>MarkDown2</th>\n",
              "      <th>MarkDown3</th>\n",
              "      <th>MarkDown4</th>\n",
              "      <th>MarkDown5</th>\n",
              "      <th>CPI</th>\n",
              "      <th>Unemployment</th>\n",
              "      <th>IsHoliday</th>\n",
              "    </tr>\n",
              "  </thead>\n",
              "  <tbody>\n",
              "    <tr>\n",
              "      <th>0</th>\n",
              "      <td>1</td>\n",
              "      <td>2010-02-05</td>\n",
              "      <td>42.31</td>\n",
              "      <td>2.572</td>\n",
              "      <td>NaN</td>\n",
              "      <td>NaN</td>\n",
              "      <td>NaN</td>\n",
              "      <td>NaN</td>\n",
              "      <td>NaN</td>\n",
              "      <td>211.096358</td>\n",
              "      <td>8.106</td>\n",
              "      <td>False</td>\n",
              "    </tr>\n",
              "    <tr>\n",
              "      <th>1</th>\n",
              "      <td>1</td>\n",
              "      <td>2010-02-12</td>\n",
              "      <td>38.51</td>\n",
              "      <td>2.548</td>\n",
              "      <td>NaN</td>\n",
              "      <td>NaN</td>\n",
              "      <td>NaN</td>\n",
              "      <td>NaN</td>\n",
              "      <td>NaN</td>\n",
              "      <td>211.242170</td>\n",
              "      <td>8.106</td>\n",
              "      <td>True</td>\n",
              "    </tr>\n",
              "    <tr>\n",
              "      <th>2</th>\n",
              "      <td>1</td>\n",
              "      <td>2010-02-19</td>\n",
              "      <td>39.93</td>\n",
              "      <td>2.514</td>\n",
              "      <td>NaN</td>\n",
              "      <td>NaN</td>\n",
              "      <td>NaN</td>\n",
              "      <td>NaN</td>\n",
              "      <td>NaN</td>\n",
              "      <td>211.289143</td>\n",
              "      <td>8.106</td>\n",
              "      <td>False</td>\n",
              "    </tr>\n",
              "    <tr>\n",
              "      <th>3</th>\n",
              "      <td>1</td>\n",
              "      <td>2010-02-26</td>\n",
              "      <td>46.63</td>\n",
              "      <td>2.561</td>\n",
              "      <td>NaN</td>\n",
              "      <td>NaN</td>\n",
              "      <td>NaN</td>\n",
              "      <td>NaN</td>\n",
              "      <td>NaN</td>\n",
              "      <td>211.319643</td>\n",
              "      <td>8.106</td>\n",
              "      <td>False</td>\n",
              "    </tr>\n",
              "    <tr>\n",
              "      <th>4</th>\n",
              "      <td>1</td>\n",
              "      <td>2010-03-05</td>\n",
              "      <td>46.50</td>\n",
              "      <td>2.625</td>\n",
              "      <td>NaN</td>\n",
              "      <td>NaN</td>\n",
              "      <td>NaN</td>\n",
              "      <td>NaN</td>\n",
              "      <td>NaN</td>\n",
              "      <td>211.350143</td>\n",
              "      <td>8.106</td>\n",
              "      <td>False</td>\n",
              "    </tr>\n",
              "  </tbody>\n",
              "</table>\n",
              "</div>"
            ],
            "text/plain": [
              "   Store        Date  Temperature  Fuel_Price  MarkDown1  MarkDown2  \\\n",
              "0      1  2010-02-05        42.31       2.572        NaN        NaN   \n",
              "1      1  2010-02-12        38.51       2.548        NaN        NaN   \n",
              "2      1  2010-02-19        39.93       2.514        NaN        NaN   \n",
              "3      1  2010-02-26        46.63       2.561        NaN        NaN   \n",
              "4      1  2010-03-05        46.50       2.625        NaN        NaN   \n",
              "\n",
              "   MarkDown3  MarkDown4  MarkDown5         CPI  Unemployment  IsHoliday  \n",
              "0        NaN        NaN        NaN  211.096358         8.106      False  \n",
              "1        NaN        NaN        NaN  211.242170         8.106       True  \n",
              "2        NaN        NaN        NaN  211.289143         8.106      False  \n",
              "3        NaN        NaN        NaN  211.319643         8.106      False  \n",
              "4        NaN        NaN        NaN  211.350143         8.106      False  "
            ]
          },
          "metadata": {
            "tags": []
          },
          "execution_count": 20
        }
      ]
    },
    {
      "cell_type": "code",
      "metadata": {
        "id": "4capkC3XAO8x",
        "colab": {
          "base_uri": "https://localhost:8080/"
        },
        "outputId": "88b871eb-f315-4001-d23d-8fa7d50e7e35"
      },
      "source": [
        "features.info()"
      ],
      "execution_count": 21,
      "outputs": [
        {
          "output_type": "stream",
          "text": [
            "<class 'pandas.core.frame.DataFrame'>\n",
            "RangeIndex: 8190 entries, 0 to 8189\n",
            "Data columns (total 12 columns):\n",
            " #   Column        Non-Null Count  Dtype  \n",
            "---  ------        --------------  -----  \n",
            " 0   Store         8190 non-null   int64  \n",
            " 1   Date          8190 non-null   object \n",
            " 2   Temperature   8190 non-null   float64\n",
            " 3   Fuel_Price    8190 non-null   float64\n",
            " 4   MarkDown1     4032 non-null   float64\n",
            " 5   MarkDown2     2921 non-null   float64\n",
            " 6   MarkDown3     3613 non-null   float64\n",
            " 7   MarkDown4     3464 non-null   float64\n",
            " 8   MarkDown5     4050 non-null   float64\n",
            " 9   CPI           7605 non-null   float64\n",
            " 10  Unemployment  7605 non-null   float64\n",
            " 11  IsHoliday     8190 non-null   bool   \n",
            "dtypes: bool(1), float64(9), int64(1), object(1)\n",
            "memory usage: 712.0+ KB\n"
          ],
          "name": "stdout"
        }
      ]
    },
    {
      "cell_type": "code",
      "metadata": {
        "id": "yqfgxl2OASL3",
        "colab": {
          "base_uri": "https://localhost:8080/",
          "height": 294
        },
        "outputId": "77d64fad-3416-462f-9a33-0c4234e20cbb"
      },
      "source": [
        "features.describe()"
      ],
      "execution_count": 22,
      "outputs": [
        {
          "output_type": "execute_result",
          "data": {
            "text/html": [
              "<div>\n",
              "<style scoped>\n",
              "    .dataframe tbody tr th:only-of-type {\n",
              "        vertical-align: middle;\n",
              "    }\n",
              "\n",
              "    .dataframe tbody tr th {\n",
              "        vertical-align: top;\n",
              "    }\n",
              "\n",
              "    .dataframe thead th {\n",
              "        text-align: right;\n",
              "    }\n",
              "</style>\n",
              "<table border=\"1\" class=\"dataframe\">\n",
              "  <thead>\n",
              "    <tr style=\"text-align: right;\">\n",
              "      <th></th>\n",
              "      <th>Store</th>\n",
              "      <th>Temperature</th>\n",
              "      <th>Fuel_Price</th>\n",
              "      <th>MarkDown1</th>\n",
              "      <th>MarkDown2</th>\n",
              "      <th>MarkDown3</th>\n",
              "      <th>MarkDown4</th>\n",
              "      <th>MarkDown5</th>\n",
              "      <th>CPI</th>\n",
              "      <th>Unemployment</th>\n",
              "    </tr>\n",
              "  </thead>\n",
              "  <tbody>\n",
              "    <tr>\n",
              "      <th>count</th>\n",
              "      <td>8190.000000</td>\n",
              "      <td>8190.000000</td>\n",
              "      <td>8190.000000</td>\n",
              "      <td>4032.000000</td>\n",
              "      <td>2921.000000</td>\n",
              "      <td>3613.000000</td>\n",
              "      <td>3464.000000</td>\n",
              "      <td>4050.000000</td>\n",
              "      <td>7605.000000</td>\n",
              "      <td>7605.000000</td>\n",
              "    </tr>\n",
              "    <tr>\n",
              "      <th>mean</th>\n",
              "      <td>23.000000</td>\n",
              "      <td>59.356198</td>\n",
              "      <td>3.405992</td>\n",
              "      <td>7032.371786</td>\n",
              "      <td>3384.176594</td>\n",
              "      <td>1760.100180</td>\n",
              "      <td>3292.935886</td>\n",
              "      <td>4132.216422</td>\n",
              "      <td>172.460809</td>\n",
              "      <td>7.826821</td>\n",
              "    </tr>\n",
              "    <tr>\n",
              "      <th>std</th>\n",
              "      <td>12.987966</td>\n",
              "      <td>18.678607</td>\n",
              "      <td>0.431337</td>\n",
              "      <td>9262.747448</td>\n",
              "      <td>8793.583016</td>\n",
              "      <td>11276.462208</td>\n",
              "      <td>6792.329861</td>\n",
              "      <td>13086.690278</td>\n",
              "      <td>39.738346</td>\n",
              "      <td>1.877259</td>\n",
              "    </tr>\n",
              "    <tr>\n",
              "      <th>min</th>\n",
              "      <td>1.000000</td>\n",
              "      <td>-7.290000</td>\n",
              "      <td>2.472000</td>\n",
              "      <td>-2781.450000</td>\n",
              "      <td>-265.760000</td>\n",
              "      <td>-179.260000</td>\n",
              "      <td>0.220000</td>\n",
              "      <td>-185.170000</td>\n",
              "      <td>126.064000</td>\n",
              "      <td>3.684000</td>\n",
              "    </tr>\n",
              "    <tr>\n",
              "      <th>25%</th>\n",
              "      <td>12.000000</td>\n",
              "      <td>45.902500</td>\n",
              "      <td>3.041000</td>\n",
              "      <td>1577.532500</td>\n",
              "      <td>68.880000</td>\n",
              "      <td>6.600000</td>\n",
              "      <td>304.687500</td>\n",
              "      <td>1440.827500</td>\n",
              "      <td>132.364839</td>\n",
              "      <td>6.634000</td>\n",
              "    </tr>\n",
              "    <tr>\n",
              "      <th>50%</th>\n",
              "      <td>23.000000</td>\n",
              "      <td>60.710000</td>\n",
              "      <td>3.513000</td>\n",
              "      <td>4743.580000</td>\n",
              "      <td>364.570000</td>\n",
              "      <td>36.260000</td>\n",
              "      <td>1176.425000</td>\n",
              "      <td>2727.135000</td>\n",
              "      <td>182.764003</td>\n",
              "      <td>7.806000</td>\n",
              "    </tr>\n",
              "    <tr>\n",
              "      <th>75%</th>\n",
              "      <td>34.000000</td>\n",
              "      <td>73.880000</td>\n",
              "      <td>3.743000</td>\n",
              "      <td>8923.310000</td>\n",
              "      <td>2153.350000</td>\n",
              "      <td>163.150000</td>\n",
              "      <td>3310.007500</td>\n",
              "      <td>4832.555000</td>\n",
              "      <td>213.932412</td>\n",
              "      <td>8.567000</td>\n",
              "    </tr>\n",
              "    <tr>\n",
              "      <th>max</th>\n",
              "      <td>45.000000</td>\n",
              "      <td>101.950000</td>\n",
              "      <td>4.468000</td>\n",
              "      <td>103184.980000</td>\n",
              "      <td>104519.540000</td>\n",
              "      <td>149483.310000</td>\n",
              "      <td>67474.850000</td>\n",
              "      <td>771448.100000</td>\n",
              "      <td>228.976456</td>\n",
              "      <td>14.313000</td>\n",
              "    </tr>\n",
              "  </tbody>\n",
              "</table>\n",
              "</div>"
            ],
            "text/plain": [
              "             Store  Temperature   Fuel_Price      MarkDown1      MarkDown2  \\\n",
              "count  8190.000000  8190.000000  8190.000000    4032.000000    2921.000000   \n",
              "mean     23.000000    59.356198     3.405992    7032.371786    3384.176594   \n",
              "std      12.987966    18.678607     0.431337    9262.747448    8793.583016   \n",
              "min       1.000000    -7.290000     2.472000   -2781.450000    -265.760000   \n",
              "25%      12.000000    45.902500     3.041000    1577.532500      68.880000   \n",
              "50%      23.000000    60.710000     3.513000    4743.580000     364.570000   \n",
              "75%      34.000000    73.880000     3.743000    8923.310000    2153.350000   \n",
              "max      45.000000   101.950000     4.468000  103184.980000  104519.540000   \n",
              "\n",
              "           MarkDown3     MarkDown4      MarkDown5          CPI  Unemployment  \n",
              "count    3613.000000   3464.000000    4050.000000  7605.000000   7605.000000  \n",
              "mean     1760.100180   3292.935886    4132.216422   172.460809      7.826821  \n",
              "std     11276.462208   6792.329861   13086.690278    39.738346      1.877259  \n",
              "min      -179.260000      0.220000    -185.170000   126.064000      3.684000  \n",
              "25%         6.600000    304.687500    1440.827500   132.364839      6.634000  \n",
              "50%        36.260000   1176.425000    2727.135000   182.764003      7.806000  \n",
              "75%       163.150000   3310.007500    4832.555000   213.932412      8.567000  \n",
              "max    149483.310000  67474.850000  771448.100000   228.976456     14.313000  "
            ]
          },
          "metadata": {
            "tags": []
          },
          "execution_count": 22
        }
      ]
    },
    {
      "cell_type": "code",
      "metadata": {
        "id": "3_eg2gv3AYri",
        "colab": {
          "base_uri": "https://localhost:8080/",
          "height": 417
        },
        "outputId": "9b7dd401-92a2-49ae-bd5a-a1fbe0506bc3"
      },
      "source": [
        "#missing data\n",
        "total = features.isnull().sum().sort_values(ascending=False)\n",
        "percent = (features.isnull().sum()/features.isnull().count()).sort_values(ascending=False)\n",
        "missing_data = pd.concat([total, percent], axis=1, keys=['Total', 'Percent'])\n",
        "missing_data.head(20)"
      ],
      "execution_count": 23,
      "outputs": [
        {
          "output_type": "execute_result",
          "data": {
            "text/html": [
              "<div>\n",
              "<style scoped>\n",
              "    .dataframe tbody tr th:only-of-type {\n",
              "        vertical-align: middle;\n",
              "    }\n",
              "\n",
              "    .dataframe tbody tr th {\n",
              "        vertical-align: top;\n",
              "    }\n",
              "\n",
              "    .dataframe thead th {\n",
              "        text-align: right;\n",
              "    }\n",
              "</style>\n",
              "<table border=\"1\" class=\"dataframe\">\n",
              "  <thead>\n",
              "    <tr style=\"text-align: right;\">\n",
              "      <th></th>\n",
              "      <th>Total</th>\n",
              "      <th>Percent</th>\n",
              "    </tr>\n",
              "  </thead>\n",
              "  <tbody>\n",
              "    <tr>\n",
              "      <th>MarkDown2</th>\n",
              "      <td>5269</td>\n",
              "      <td>0.643346</td>\n",
              "    </tr>\n",
              "    <tr>\n",
              "      <th>MarkDown4</th>\n",
              "      <td>4726</td>\n",
              "      <td>0.577045</td>\n",
              "    </tr>\n",
              "    <tr>\n",
              "      <th>MarkDown3</th>\n",
              "      <td>4577</td>\n",
              "      <td>0.558852</td>\n",
              "    </tr>\n",
              "    <tr>\n",
              "      <th>MarkDown1</th>\n",
              "      <td>4158</td>\n",
              "      <td>0.507692</td>\n",
              "    </tr>\n",
              "    <tr>\n",
              "      <th>MarkDown5</th>\n",
              "      <td>4140</td>\n",
              "      <td>0.505495</td>\n",
              "    </tr>\n",
              "    <tr>\n",
              "      <th>Unemployment</th>\n",
              "      <td>585</td>\n",
              "      <td>0.071429</td>\n",
              "    </tr>\n",
              "    <tr>\n",
              "      <th>CPI</th>\n",
              "      <td>585</td>\n",
              "      <td>0.071429</td>\n",
              "    </tr>\n",
              "    <tr>\n",
              "      <th>IsHoliday</th>\n",
              "      <td>0</td>\n",
              "      <td>0.000000</td>\n",
              "    </tr>\n",
              "    <tr>\n",
              "      <th>Fuel_Price</th>\n",
              "      <td>0</td>\n",
              "      <td>0.000000</td>\n",
              "    </tr>\n",
              "    <tr>\n",
              "      <th>Temperature</th>\n",
              "      <td>0</td>\n",
              "      <td>0.000000</td>\n",
              "    </tr>\n",
              "    <tr>\n",
              "      <th>Date</th>\n",
              "      <td>0</td>\n",
              "      <td>0.000000</td>\n",
              "    </tr>\n",
              "    <tr>\n",
              "      <th>Store</th>\n",
              "      <td>0</td>\n",
              "      <td>0.000000</td>\n",
              "    </tr>\n",
              "  </tbody>\n",
              "</table>\n",
              "</div>"
            ],
            "text/plain": [
              "              Total   Percent\n",
              "MarkDown2      5269  0.643346\n",
              "MarkDown4      4726  0.577045\n",
              "MarkDown3      4577  0.558852\n",
              "MarkDown1      4158  0.507692\n",
              "MarkDown5      4140  0.505495\n",
              "Unemployment    585  0.071429\n",
              "CPI             585  0.071429\n",
              "IsHoliday         0  0.000000\n",
              "Fuel_Price        0  0.000000\n",
              "Temperature       0  0.000000\n",
              "Date              0  0.000000\n",
              "Store             0  0.000000"
            ]
          },
          "metadata": {
            "tags": []
          },
          "execution_count": 23
        }
      ]
    },
    {
      "cell_type": "code",
      "metadata": {
        "id": "I-nilgz0Ad77"
      },
      "source": [
        "# Distribution of NaNs for all columns\n",
        "features_missing = features.isna().sum()/len(features) * 100"
      ],
      "execution_count": 24,
      "outputs": []
    },
    {
      "cell_type": "code",
      "metadata": {
        "id": "ozTIjsljAgye",
        "colab": {
          "base_uri": "https://localhost:8080/",
          "height": 405
        },
        "outputId": "2c1ade22-d0e4-4896-9217-3e38fa2b5daa"
      },
      "source": [
        "plt.figure(figsize=(6,6))\n",
        "plt.yticks(np.arange(len(features_missing)),features_missing.index,rotation='horizontal')\n",
        "plt.xlabel('fraction of rows with missing data')\n",
        "plt.barh(np.arange(len(features_missing)), features_missing)"
      ],
      "execution_count": 25,
      "outputs": [
        {
          "output_type": "execute_result",
          "data": {
            "text/plain": [
              "<BarContainer object of 12 artists>"
            ]
          },
          "metadata": {
            "tags": []
          },
          "execution_count": 25
        },
        {
          "output_type": "display_data",
          "data": {
            "image/png": "[encoded data removed]",
            "text/plain": [
              "<Figure size 432x432 with 1 Axes>"
            ]
          },
          "metadata": {
            "tags": [],
            "needs_background": "light"
          }
        }
      ]
    },
    {
      "cell_type": "code",
      "metadata": {
        "id": "5mS1yvN4Aq4U",
        "colab": {
          "base_uri": "https://localhost:8080/",
          "height": 718
        },
        "outputId": "5d86186f-b26f-4cee-fa14-e9393fa61bee"
      },
      "source": [
        "fig, ax = plt.subplots(2, 2, figsize = (15,12))\n",
        "\n",
        "# Plot 1: Year Vs # of Records\n",
        "ax[0,0].barh(features['Date'].str.slice(start=0, stop=4).unique(), \n",
        "          features['Date'].str.slice(start=0, stop=4).value_counts())\n",
        "ax[0,0].set_xlabel('# of Records')\n",
        "ax[0,0].set_ylabel('Year')\n",
        "ax[0,0].yaxis.grid(True, linewidth=0.3)\n",
        "\n",
        "# Plot 2: Month Vs # of Records with Missing Values - Unemployment\n",
        "ax[1,0].barh(features['Date'].str.slice(start=0, stop=7)[features['Unemployment'].isna()].unique(), \n",
        "          features['Date'].str.slice(start=0, stop=7)[features['Unemployment'].isna()].value_counts())\n",
        "ax[1,0].set_xlabel('# of Records with Missing Values - Unemployment')\n",
        "ax[1,0].set_ylabel('Month')\n",
        "ax[1,0].yaxis.grid(True, linewidth=0.3)\n",
        "\n",
        "# Plot 3: Month Vs # of Records with Missing Values - CPI\n",
        "ax[1,1].barh(features['Date'].str.slice(start=0, stop=7)[features['CPI'].isna()].unique(), \n",
        "          features['Date'].str.slice(start=0, stop=7)[features['CPI'].isna()].value_counts())\n",
        "ax[1,1].set_xlabel('# of Records with Missing Values - CPI')\n",
        "ax[1,1].set_ylabel('Month')\n",
        "ax[1,1].yaxis.grid(True, linewidth=0.3)\n",
        "\n",
        "#plt.figure(figsize=(6,6))\n",
        "#plt.yticks(np.arange(len(features_missing)),features_missing.index,rotation='horizontal')\n",
        "#plt.xlabel('fraction of rows with missing data')\n",
        "#plt.barh(np.arange(len(features_missing)), features_missing)\n"
      ],
      "execution_count": 26,
      "outputs": [
        {
          "output_type": "display_data",
          "data": {
            "image/png": "[encoded data removed]",
            "text/plain": [
              "<Figure size 1080x864 with 4 Axes>"
            ]
          },
          "metadata": {
            "tags": [],
            "needs_background": "light"
          }
        }
      ]
    },
    {
      "cell_type": "code",
      "metadata": {
        "id": "PkN0xfNJA2yq"
      },
      "source": [
        "holidays = ['2010-02-12', '2011-02-11', '2012-02-10', '2013-02-08', #Super Bowl\n",
        "           '2010-09-10', '2011-09-09', '2012-09-07', '2013-02-06',  #Labor Day\n",
        "           '2010-11-26', '2011-11-25', '2012-11-23', '2013-11-29',  #Thanksgiving\n",
        "           '2010-12-31', '2011-12-30', '2012-12-28', '2013-12-27']  #Christmas"
      ],
      "execution_count": 27,
      "outputs": []
    },
    {
      "cell_type": "code",
      "metadata": {
        "id": "FoyCSqPqA6ur",
        "colab": {
          "base_uri": "https://localhost:8080/"
        },
        "outputId": "16ecb8a3-f5cd-4a89-def5-b774e3120581"
      },
      "source": [
        "# Validate Holidays\n",
        "features['IsHoliday'][features['Date'].isin(holidays)].value_counts()"
      ],
      "execution_count": 28,
      "outputs": [
        {
          "output_type": "execute_result",
          "data": {
            "text/plain": [
              "True    585\n",
              "Name: IsHoliday, dtype: int64"
            ]
          },
          "metadata": {
            "tags": []
          },
          "execution_count": 28
        }
      ]
    },
    {
      "cell_type": "code",
      "metadata": {
        "id": "S8V0Xbl_A-Mx",
        "colab": {
          "base_uri": "https://localhost:8080/"
        },
        "outputId": "4358ad5a-04eb-4776-e102-312548dc0b8d"
      },
      "source": [
        "features['Date'][features['IsHoliday'].isin([1])][~features['Date'].isin(holidays)].value_counts()"
      ],
      "execution_count": 29,
      "outputs": [
        {
          "output_type": "execute_result",
          "data": {
            "text/plain": [
              "Series([], Name: Date, dtype: int64)"
            ]
          },
          "metadata": {
            "tags": []
          },
          "execution_count": 29
        }
      ]
    },
    {
      "cell_type": "code",
      "metadata": {
        "id": "nM97gwWUBBwd",
        "colab": {
          "base_uri": "https://localhost:8080/",
          "height": 446
        },
        "outputId": "cbb67f38-2f59-4fd9-f6b3-225e1b6ea1d0"
      },
      "source": [
        "features[['CPI','Unemployment']].groupby([features['Store'], features['Date'].str.slice(start=0, stop=7)]).mean().head(84)"
      ],
      "execution_count": 30,
      "outputs": [
        {
          "output_type": "execute_result",
          "data": {
            "text/html": [
              "<div>\n",
              "<style scoped>\n",
              "    .dataframe tbody tr th:only-of-type {\n",
              "        vertical-align: middle;\n",
              "    }\n",
              "\n",
              "    .dataframe tbody tr th {\n",
              "        vertical-align: top;\n",
              "    }\n",
              "\n",
              "    .dataframe thead th {\n",
              "        text-align: right;\n",
              "    }\n",
              "</style>\n",
              "<table border=\"1\" class=\"dataframe\">\n",
              "  <thead>\n",
              "    <tr style=\"text-align: right;\">\n",
              "      <th></th>\n",
              "      <th></th>\n",
              "      <th>CPI</th>\n",
              "      <th>Unemployment</th>\n",
              "    </tr>\n",
              "    <tr>\n",
              "      <th>Store</th>\n",
              "      <th>Date</th>\n",
              "      <th></th>\n",
              "      <th></th>\n",
              "    </tr>\n",
              "  </thead>\n",
              "  <tbody>\n",
              "    <tr>\n",
              "      <th rowspan=\"5\" valign=\"top\">1</th>\n",
              "      <th>2010-02</th>\n",
              "      <td>211.236828</td>\n",
              "      <td>8.106</td>\n",
              "    </tr>\n",
              "    <tr>\n",
              "      <th>2010-03</th>\n",
              "      <td>211.241116</td>\n",
              "      <td>8.106</td>\n",
              "    </tr>\n",
              "    <tr>\n",
              "      <th>2010-04</th>\n",
              "      <td>210.552135</td>\n",
              "      <td>7.808</td>\n",
              "    </tr>\n",
              "    <tr>\n",
              "      <th>2010-05</th>\n",
              "      <td>210.547812</td>\n",
              "      <td>7.808</td>\n",
              "    </tr>\n",
              "    <tr>\n",
              "      <th>2010-06</th>\n",
              "      <td>211.356237</td>\n",
              "      <td>7.808</td>\n",
              "    </tr>\n",
              "    <tr>\n",
              "      <th>...</th>\n",
              "      <th>...</th>\n",
              "      <td>...</td>\n",
              "      <td>...</td>\n",
              "    </tr>\n",
              "    <tr>\n",
              "      <th rowspan=\"5\" valign=\"top\">2</th>\n",
              "      <th>2013-03</th>\n",
              "      <td>224.439928</td>\n",
              "      <td>6.237</td>\n",
              "    </tr>\n",
              "    <tr>\n",
              "      <th>2013-04</th>\n",
              "      <td>224.781713</td>\n",
              "      <td>6.112</td>\n",
              "    </tr>\n",
              "    <tr>\n",
              "      <th>2013-05</th>\n",
              "      <td>NaN</td>\n",
              "      <td>NaN</td>\n",
              "    </tr>\n",
              "    <tr>\n",
              "      <th>2013-06</th>\n",
              "      <td>NaN</td>\n",
              "      <td>NaN</td>\n",
              "    </tr>\n",
              "    <tr>\n",
              "      <th>2013-07</th>\n",
              "      <td>NaN</td>\n",
              "      <td>NaN</td>\n",
              "    </tr>\n",
              "  </tbody>\n",
              "</table>\n",
              "<p>84 rows × 2 columns</p>\n",
              "</div>"
            ],
            "text/plain": [
              "                      CPI  Unemployment\n",
              "Store Date                             \n",
              "1     2010-02  211.236828         8.106\n",
              "      2010-03  211.241116         8.106\n",
              "      2010-04  210.552135         7.808\n",
              "      2010-05  210.547812         7.808\n",
              "      2010-06  211.356237         7.808\n",
              "...                   ...           ...\n",
              "2     2013-03  224.439928         6.237\n",
              "      2013-04  224.781713         6.112\n",
              "      2013-05         NaN           NaN\n",
              "      2013-06         NaN           NaN\n",
              "      2013-07         NaN           NaN\n",
              "\n",
              "[84 rows x 2 columns]"
            ]
          },
          "metadata": {
            "tags": []
          },
          "execution_count": 30
        }
      ]
    },
    {
      "cell_type": "code",
      "metadata": {
        "id": "5Gw9e7tjBFss",
        "colab": {
          "base_uri": "https://localhost:8080/",
          "height": 1000
        },
        "outputId": "b7c8880d-09ac-46d0-e43a-4bbe79d26293"
      },
      "source": [
        "features.groupby(features['Date'].str.slice(start=0, stop=7))['MarkDown1','MarkDown2','MarkDown3','MarkDown4','MarkDown5'].count()"
      ],
      "execution_count": 31,
      "outputs": [
        {
          "output_type": "execute_result",
          "data": {
            "text/html": [
              "<div>\n",
              "<style scoped>\n",
              "    .dataframe tbody tr th:only-of-type {\n",
              "        vertical-align: middle;\n",
              "    }\n",
              "\n",
              "    .dataframe tbody tr th {\n",
              "        vertical-align: top;\n",
              "    }\n",
              "\n",
              "    .dataframe thead th {\n",
              "        text-align: right;\n",
              "    }\n",
              "</style>\n",
              "<table border=\"1\" class=\"dataframe\">\n",
              "  <thead>\n",
              "    <tr style=\"text-align: right;\">\n",
              "      <th></th>\n",
              "      <th>MarkDown1</th>\n",
              "      <th>MarkDown2</th>\n",
              "      <th>MarkDown3</th>\n",
              "      <th>MarkDown4</th>\n",
              "      <th>MarkDown5</th>\n",
              "    </tr>\n",
              "    <tr>\n",
              "      <th>Date</th>\n",
              "      <th></th>\n",
              "      <th></th>\n",
              "      <th></th>\n",
              "      <th></th>\n",
              "      <th></th>\n",
              "    </tr>\n",
              "  </thead>\n",
              "  <tbody>\n",
              "    <tr>\n",
              "      <th>2010-02</th>\n",
              "      <td>0</td>\n",
              "      <td>0</td>\n",
              "      <td>0</td>\n",
              "      <td>0</td>\n",
              "      <td>0</td>\n",
              "    </tr>\n",
              "    <tr>\n",
              "      <th>2010-03</th>\n",
              "      <td>0</td>\n",
              "      <td>0</td>\n",
              "      <td>0</td>\n",
              "      <td>0</td>\n",
              "      <td>0</td>\n",
              "    </tr>\n",
              "    <tr>\n",
              "      <th>2010-04</th>\n",
              "      <td>0</td>\n",
              "      <td>0</td>\n",
              "      <td>0</td>\n",
              "      <td>0</td>\n",
              "      <td>0</td>\n",
              "    </tr>\n",
              "    <tr>\n",
              "      <th>2010-05</th>\n",
              "      <td>0</td>\n",
              "      <td>0</td>\n",
              "      <td>0</td>\n",
              "      <td>0</td>\n",
              "      <td>0</td>\n",
              "    </tr>\n",
              "    <tr>\n",
              "      <th>2010-06</th>\n",
              "      <td>0</td>\n",
              "      <td>0</td>\n",
              "      <td>0</td>\n",
              "      <td>0</td>\n",
              "      <td>0</td>\n",
              "    </tr>\n",
              "    <tr>\n",
              "      <th>2010-07</th>\n",
              "      <td>0</td>\n",
              "      <td>0</td>\n",
              "      <td>0</td>\n",
              "      <td>0</td>\n",
              "      <td>0</td>\n",
              "    </tr>\n",
              "    <tr>\n",
              "      <th>2010-08</th>\n",
              "      <td>0</td>\n",
              "      <td>0</td>\n",
              "      <td>0</td>\n",
              "      <td>0</td>\n",
              "      <td>0</td>\n",
              "    </tr>\n",
              "    <tr>\n",
              "      <th>2010-09</th>\n",
              "      <td>0</td>\n",
              "      <td>0</td>\n",
              "      <td>0</td>\n",
              "      <td>0</td>\n",
              "      <td>0</td>\n",
              "    </tr>\n",
              "    <tr>\n",
              "      <th>2010-10</th>\n",
              "      <td>0</td>\n",
              "      <td>0</td>\n",
              "      <td>0</td>\n",
              "      <td>0</td>\n",
              "      <td>0</td>\n",
              "    </tr>\n",
              "    <tr>\n",
              "      <th>2010-11</th>\n",
              "      <td>0</td>\n",
              "      <td>0</td>\n",
              "      <td>0</td>\n",
              "      <td>0</td>\n",
              "      <td>0</td>\n",
              "    </tr>\n",
              "    <tr>\n",
              "      <th>2010-12</th>\n",
              "      <td>0</td>\n",
              "      <td>0</td>\n",
              "      <td>0</td>\n",
              "      <td>0</td>\n",
              "      <td>0</td>\n",
              "    </tr>\n",
              "    <tr>\n",
              "      <th>2011-01</th>\n",
              "      <td>0</td>\n",
              "      <td>0</td>\n",
              "      <td>0</td>\n",
              "      <td>0</td>\n",
              "      <td>0</td>\n",
              "    </tr>\n",
              "    <tr>\n",
              "      <th>2011-02</th>\n",
              "      <td>0</td>\n",
              "      <td>0</td>\n",
              "      <td>0</td>\n",
              "      <td>0</td>\n",
              "      <td>0</td>\n",
              "    </tr>\n",
              "    <tr>\n",
              "      <th>2011-03</th>\n",
              "      <td>0</td>\n",
              "      <td>0</td>\n",
              "      <td>0</td>\n",
              "      <td>0</td>\n",
              "      <td>0</td>\n",
              "    </tr>\n",
              "    <tr>\n",
              "      <th>2011-04</th>\n",
              "      <td>0</td>\n",
              "      <td>0</td>\n",
              "      <td>0</td>\n",
              "      <td>0</td>\n",
              "      <td>0</td>\n",
              "    </tr>\n",
              "    <tr>\n",
              "      <th>2011-05</th>\n",
              "      <td>0</td>\n",
              "      <td>0</td>\n",
              "      <td>0</td>\n",
              "      <td>0</td>\n",
              "      <td>0</td>\n",
              "    </tr>\n",
              "    <tr>\n",
              "      <th>2011-06</th>\n",
              "      <td>0</td>\n",
              "      <td>0</td>\n",
              "      <td>0</td>\n",
              "      <td>0</td>\n",
              "      <td>0</td>\n",
              "    </tr>\n",
              "    <tr>\n",
              "      <th>2011-07</th>\n",
              "      <td>0</td>\n",
              "      <td>0</td>\n",
              "      <td>0</td>\n",
              "      <td>0</td>\n",
              "      <td>0</td>\n",
              "    </tr>\n",
              "    <tr>\n",
              "      <th>2011-08</th>\n",
              "      <td>0</td>\n",
              "      <td>0</td>\n",
              "      <td>0</td>\n",
              "      <td>0</td>\n",
              "      <td>0</td>\n",
              "    </tr>\n",
              "    <tr>\n",
              "      <th>2011-09</th>\n",
              "      <td>0</td>\n",
              "      <td>0</td>\n",
              "      <td>0</td>\n",
              "      <td>0</td>\n",
              "      <td>0</td>\n",
              "    </tr>\n",
              "    <tr>\n",
              "      <th>2011-10</th>\n",
              "      <td>0</td>\n",
              "      <td>0</td>\n",
              "      <td>0</td>\n",
              "      <td>0</td>\n",
              "      <td>0</td>\n",
              "    </tr>\n",
              "    <tr>\n",
              "      <th>2011-11</th>\n",
              "      <td>134</td>\n",
              "      <td>124</td>\n",
              "      <td>124</td>\n",
              "      <td>110</td>\n",
              "      <td>135</td>\n",
              "    </tr>\n",
              "    <tr>\n",
              "      <th>2011-12</th>\n",
              "      <td>220</td>\n",
              "      <td>169</td>\n",
              "      <td>218</td>\n",
              "      <td>192</td>\n",
              "      <td>225</td>\n",
              "    </tr>\n",
              "    <tr>\n",
              "      <th>2012-01</th>\n",
              "      <td>180</td>\n",
              "      <td>179</td>\n",
              "      <td>155</td>\n",
              "      <td>150</td>\n",
              "      <td>180</td>\n",
              "    </tr>\n",
              "    <tr>\n",
              "      <th>2012-02</th>\n",
              "      <td>180</td>\n",
              "      <td>179</td>\n",
              "      <td>159</td>\n",
              "      <td>160</td>\n",
              "      <td>180</td>\n",
              "    </tr>\n",
              "    <tr>\n",
              "      <th>2012-03</th>\n",
              "      <td>224</td>\n",
              "      <td>210</td>\n",
              "      <td>198</td>\n",
              "      <td>195</td>\n",
              "      <td>225</td>\n",
              "    </tr>\n",
              "    <tr>\n",
              "      <th>2012-04</th>\n",
              "      <td>180</td>\n",
              "      <td>122</td>\n",
              "      <td>170</td>\n",
              "      <td>155</td>\n",
              "      <td>180</td>\n",
              "    </tr>\n",
              "    <tr>\n",
              "      <th>2012-05</th>\n",
              "      <td>179</td>\n",
              "      <td>11</td>\n",
              "      <td>163</td>\n",
              "      <td>151</td>\n",
              "      <td>180</td>\n",
              "    </tr>\n",
              "    <tr>\n",
              "      <th>2012-06</th>\n",
              "      <td>224</td>\n",
              "      <td>172</td>\n",
              "      <td>160</td>\n",
              "      <td>192</td>\n",
              "      <td>225</td>\n",
              "    </tr>\n",
              "    <tr>\n",
              "      <th>2012-07</th>\n",
              "      <td>180</td>\n",
              "      <td>143</td>\n",
              "      <td>172</td>\n",
              "      <td>150</td>\n",
              "      <td>180</td>\n",
              "    </tr>\n",
              "    <tr>\n",
              "      <th>2012-08</th>\n",
              "      <td>222</td>\n",
              "      <td>168</td>\n",
              "      <td>212</td>\n",
              "      <td>207</td>\n",
              "      <td>225</td>\n",
              "    </tr>\n",
              "    <tr>\n",
              "      <th>2012-09</th>\n",
              "      <td>179</td>\n",
              "      <td>115</td>\n",
              "      <td>154</td>\n",
              "      <td>157</td>\n",
              "      <td>180</td>\n",
              "    </tr>\n",
              "    <tr>\n",
              "      <th>2012-10</th>\n",
              "      <td>178</td>\n",
              "      <td>45</td>\n",
              "      <td>161</td>\n",
              "      <td>146</td>\n",
              "      <td>180</td>\n",
              "    </tr>\n",
              "    <tr>\n",
              "      <th>2012-11</th>\n",
              "      <td>224</td>\n",
              "      <td>166</td>\n",
              "      <td>209</td>\n",
              "      <td>194</td>\n",
              "      <td>225</td>\n",
              "    </tr>\n",
              "    <tr>\n",
              "      <th>2012-12</th>\n",
              "      <td>180</td>\n",
              "      <td>67</td>\n",
              "      <td>168</td>\n",
              "      <td>153</td>\n",
              "      <td>180</td>\n",
              "    </tr>\n",
              "    <tr>\n",
              "      <th>2013-01</th>\n",
              "      <td>180</td>\n",
              "      <td>180</td>\n",
              "      <td>148</td>\n",
              "      <td>147</td>\n",
              "      <td>180</td>\n",
              "    </tr>\n",
              "    <tr>\n",
              "      <th>2013-02</th>\n",
              "      <td>180</td>\n",
              "      <td>179</td>\n",
              "      <td>155</td>\n",
              "      <td>167</td>\n",
              "      <td>180</td>\n",
              "    </tr>\n",
              "    <tr>\n",
              "      <th>2013-03</th>\n",
              "      <td>225</td>\n",
              "      <td>80</td>\n",
              "      <td>198</td>\n",
              "      <td>198</td>\n",
              "      <td>225</td>\n",
              "    </tr>\n",
              "    <tr>\n",
              "      <th>2013-04</th>\n",
              "      <td>180</td>\n",
              "      <td>132</td>\n",
              "      <td>160</td>\n",
              "      <td>150</td>\n",
              "      <td>180</td>\n",
              "    </tr>\n",
              "    <tr>\n",
              "      <th>2013-05</th>\n",
              "      <td>225</td>\n",
              "      <td>181</td>\n",
              "      <td>213</td>\n",
              "      <td>186</td>\n",
              "      <td>225</td>\n",
              "    </tr>\n",
              "    <tr>\n",
              "      <th>2013-06</th>\n",
              "      <td>179</td>\n",
              "      <td>148</td>\n",
              "      <td>154</td>\n",
              "      <td>153</td>\n",
              "      <td>180</td>\n",
              "    </tr>\n",
              "    <tr>\n",
              "      <th>2013-07</th>\n",
              "      <td>179</td>\n",
              "      <td>151</td>\n",
              "      <td>162</td>\n",
              "      <td>151</td>\n",
              "      <td>180</td>\n",
              "    </tr>\n",
              "  </tbody>\n",
              "</table>\n",
              "</div>"
            ],
            "text/plain": [
              "         MarkDown1  MarkDown2  MarkDown3  MarkDown4  MarkDown5\n",
              "Date                                                          \n",
              "2010-02          0          0          0          0          0\n",
              "2010-03          0          0          0          0          0\n",
              "2010-04          0          0          0          0          0\n",
              "2010-05          0          0          0          0          0\n",
              "2010-06          0          0          0          0          0\n",
              "2010-07          0          0          0          0          0\n",
              "2010-08          0          0          0          0          0\n",
              "2010-09          0          0          0          0          0\n",
              "2010-10          0          0          0          0          0\n",
              "2010-11          0          0          0          0          0\n",
              "2010-12          0          0          0          0          0\n",
              "2011-01          0          0          0          0          0\n",
              "2011-02          0          0          0          0          0\n",
              "2011-03          0          0          0          0          0\n",
              "2011-04          0          0          0          0          0\n",
              "2011-05          0          0          0          0          0\n",
              "2011-06          0          0          0          0          0\n",
              "2011-07          0          0          0          0          0\n",
              "2011-08          0          0          0          0          0\n",
              "2011-09          0          0          0          0          0\n",
              "2011-10          0          0          0          0          0\n",
              "2011-11        134        124        124        110        135\n",
              "2011-12        220        169        218        192        225\n",
              "2012-01        180        179        155        150        180\n",
              "2012-02        180        179        159        160        180\n",
              "2012-03        224        210        198        195        225\n",
              "2012-04        180        122        170        155        180\n",
              "2012-05        179         11        163        151        180\n",
              "2012-06        224        172        160        192        225\n",
              "2012-07        180        143        172        150        180\n",
              "2012-08        222        168        212        207        225\n",
              "2012-09        179        115        154        157        180\n",
              "2012-10        178         45        161        146        180\n",
              "2012-11        224        166        209        194        225\n",
              "2012-12        180         67        168        153        180\n",
              "2013-01        180        180        148        147        180\n",
              "2013-02        180        179        155        167        180\n",
              "2013-03        225         80        198        198        225\n",
              "2013-04        180        132        160        150        180\n",
              "2013-05        225        181        213        186        225\n",
              "2013-06        179        148        154        153        180\n",
              "2013-07        179        151        162        151        180"
            ]
          },
          "metadata": {
            "tags": []
          },
          "execution_count": 31
        }
      ]
    },
    {
      "cell_type": "code",
      "metadata": {
        "id": "LJN95RM_BU1j",
        "colab": {
          "base_uri": "https://localhost:8080/",
          "height": 391
        },
        "outputId": "63d46f82-9fc9-4264-82ad-4688615115f3"
      },
      "source": [
        "#Explore Distribution\n",
        "distribution(features, ['CPI','Unemployment'])"
      ],
      "execution_count": 32,
      "outputs": [
        {
          "output_type": "display_data",
          "data": {
            "image/png": "[encoded data removed]",
            "text/plain": [
              "<Figure size 792x360 with 2 Axes>"
            ]
          },
          "metadata": {
            "tags": [],
            "needs_background": "light"
          }
        }
      ]
    },
    {
      "cell_type": "code",
      "metadata": {
        "id": "uKyyz7U1BYOE",
        "colab": {
          "base_uri": "https://localhost:8080/",
          "height": 391
        },
        "outputId": "b84c2bb7-b590-4c46-cd1d-0b13b933214a"
      },
      "source": [
        "#Explore Distribution\n",
        "distribution(features, ['Temperature','Fuel_Price'])"
      ],
      "execution_count": 33,
      "outputs": [
        {
          "output_type": "display_data",
          "data": {
            "image/png": "[encoded data removed]",
            "text/plain": [
              "<Figure size 792x360 with 2 Axes>"
            ]
          },
          "metadata": {
            "tags": [],
            "needs_background": "light"
          }
        }
      ]
    },
    {
      "cell_type": "code",
      "metadata": {
        "id": "rrdcyEVbBazq",
        "colab": {
          "base_uri": "https://localhost:8080/",
          "height": 391
        },
        "outputId": "7d5bf235-e0f0-4ffb-e4c0-ff0c3324a2fb"
      },
      "source": [
        "#Explore Distribution\n",
        "distribution(features, ['MarkDown1','MarkDown2'])"
      ],
      "execution_count": 34,
      "outputs": [
        {
          "output_type": "display_data",
          "data": {
            "image/png": "[encoded data removed]",
            "text/plain": [
              "<Figure size 792x360 with 2 Axes>"
            ]
          },
          "metadata": {
            "tags": [],
            "needs_background": "light"
          }
        }
      ]
    },
    {
      "cell_type": "code",
      "metadata": {
        "id": "SV5P3xDmBer0",
        "colab": {
          "base_uri": "https://localhost:8080/",
          "height": 391
        },
        "outputId": "d3db0985-6b59-43a0-e612-5645b6ec1118"
      },
      "source": [
        "#Explore Distribution\n",
        "distribution(features, ['MarkDown3','MarkDown4'])"
      ],
      "execution_count": 35,
      "outputs": [
        {
          "output_type": "display_data",
          "data": {
            "image/png": "[encoded data removed]",
            "text/plain": [
              "<Figure size 792x360 with 2 Axes>"
            ]
          },
          "metadata": {
            "tags": [],
            "needs_background": "light"
          }
        }
      ]
    },
    {
      "cell_type": "code",
      "metadata": {
        "id": "ZOhRxyZ0BimE",
        "colab": {
          "base_uri": "https://localhost:8080/",
          "height": 391
        },
        "outputId": "dbb3b19c-4f79-4a20-f952-d2f57b24fc74"
      },
      "source": [
        "#Explore Distribution\n",
        "distribution(features, ['MarkDown5'])"
      ],
      "execution_count": 36,
      "outputs": [
        {
          "output_type": "display_data",
          "data": {
            "image/png": "[encoded data removed]",
            "text/plain": [
              "<Figure size 792x360 with 1 Axes>"
            ]
          },
          "metadata": {
            "tags": [],
            "needs_background": "light"
          }
        }
      ]
    },
    {
      "cell_type": "markdown",
      "metadata": {
        "id": "XyPomDFGBrue"
      },
      "source": [
        "Takeaways:\n",
        "1. Data requires pre-processing\n",
        "2. Column(s) ISHOLIDAY has been validated\n",
        "3. Column(s) UNEMPLOYMENT & CPI have missing values for May, Jun & Jul 2013. For these columns as the values dont change significantly month on month, value from Apr 2013 would be propogated over for each store.\n",
        "4. Column(s) MARKDOWN* have missing values for 2010 (entire year) and 2011 (until Nov). Additionally, there are missing values for other other dates as well.\n",
        "5. CPI and UNEMPLOYMENT value are a bit skewed. MARKDOWN* columns are skewed."
      ]
    },
    {
      "cell_type": "markdown",
      "metadata": {
        "id": "FrQZdnUuB0zD"
      },
      "source": [
        "**Train data**"
      ]
    },
    {
      "cell_type": "code",
      "metadata": {
        "id": "ctqcuOqMBqbA",
        "colab": {
          "base_uri": "https://localhost:8080/",
          "height": 202
        },
        "outputId": "40eca843-d4f4-4fbd-ac1d-c46b30a0fe64"
      },
      "source": [
        "train.head()"
      ],
      "execution_count": 37,
      "outputs": [
        {
          "output_type": "execute_result",
          "data": {
            "text/html": [
              "<div>\n",
              "<style scoped>\n",
              "    .dataframe tbody tr th:only-of-type {\n",
              "        vertical-align: middle;\n",
              "    }\n",
              "\n",
              "    .dataframe tbody tr th {\n",
              "        vertical-align: top;\n",
              "    }\n",
              "\n",
              "    .dataframe thead th {\n",
              "        text-align: right;\n",
              "    }\n",
              "</style>\n",
              "<table border=\"1\" class=\"dataframe\">\n",
              "  <thead>\n",
              "    <tr style=\"text-align: right;\">\n",
              "      <th></th>\n",
              "      <th>Store</th>\n",
              "      <th>Dept</th>\n",
              "      <th>Date</th>\n",
              "      <th>Weekly_Sales</th>\n",
              "      <th>IsHoliday</th>\n",
              "    </tr>\n",
              "  </thead>\n",
              "  <tbody>\n",
              "    <tr>\n",
              "      <th>0</th>\n",
              "      <td>1</td>\n",
              "      <td>1</td>\n",
              "      <td>2010-02-05</td>\n",
              "      <td>24924.50</td>\n",
              "      <td>False</td>\n",
              "    </tr>\n",
              "    <tr>\n",
              "      <th>1</th>\n",
              "      <td>1</td>\n",
              "      <td>1</td>\n",
              "      <td>2010-02-12</td>\n",
              "      <td>46039.49</td>\n",
              "      <td>True</td>\n",
              "    </tr>\n",
              "    <tr>\n",
              "      <th>2</th>\n",
              "      <td>1</td>\n",
              "      <td>1</td>\n",
              "      <td>2010-02-19</td>\n",
              "      <td>41595.55</td>\n",
              "      <td>False</td>\n",
              "    </tr>\n",
              "    <tr>\n",
              "      <th>3</th>\n",
              "      <td>1</td>\n",
              "      <td>1</td>\n",
              "      <td>2010-02-26</td>\n",
              "      <td>19403.54</td>\n",
              "      <td>False</td>\n",
              "    </tr>\n",
              "    <tr>\n",
              "      <th>4</th>\n",
              "      <td>1</td>\n",
              "      <td>1</td>\n",
              "      <td>2010-03-05</td>\n",
              "      <td>21827.90</td>\n",
              "      <td>False</td>\n",
              "    </tr>\n",
              "  </tbody>\n",
              "</table>\n",
              "</div>"
            ],
            "text/plain": [
              "   Store  Dept        Date  Weekly_Sales  IsHoliday\n",
              "0      1     1  2010-02-05      24924.50      False\n",
              "1      1     1  2010-02-12      46039.49       True\n",
              "2      1     1  2010-02-19      41595.55      False\n",
              "3      1     1  2010-02-26      19403.54      False\n",
              "4      1     1  2010-03-05      21827.90      False"
            ]
          },
          "metadata": {
            "tags": []
          },
          "execution_count": 37
        }
      ]
    },
    {
      "cell_type": "code",
      "metadata": {
        "id": "eESNHdVnB5sd",
        "colab": {
          "base_uri": "https://localhost:8080/"
        },
        "outputId": "798e7206-7761-4058-ebf3-2194ac0b9d27"
      },
      "source": [
        "train.info()"
      ],
      "execution_count": 38,
      "outputs": [
        {
          "output_type": "stream",
          "text": [
            "<class 'pandas.core.frame.DataFrame'>\n",
            "RangeIndex: 421570 entries, 0 to 421569\n",
            "Data columns (total 5 columns):\n",
            " #   Column        Non-Null Count   Dtype  \n",
            "---  ------        --------------   -----  \n",
            " 0   Store         421570 non-null  int64  \n",
            " 1   Dept          421570 non-null  int64  \n",
            " 2   Date          421570 non-null  object \n",
            " 3   Weekly_Sales  421570 non-null  float64\n",
            " 4   IsHoliday     421570 non-null  bool   \n",
            "dtypes: bool(1), float64(1), int64(2), object(1)\n",
            "memory usage: 13.3+ MB\n"
          ],
          "name": "stdout"
        }
      ]
    },
    {
      "cell_type": "code",
      "metadata": {
        "id": "iQWxGUnqHi3Q",
        "colab": {
          "base_uri": "https://localhost:8080/",
          "height": 294
        },
        "outputId": "aa70023c-725d-4552-aec6-a66deaf25f56"
      },
      "source": [
        "train.describe()"
      ],
      "execution_count": 39,
      "outputs": [
        {
          "output_type": "execute_result",
          "data": {
            "text/html": [
              "<div>\n",
              "<style scoped>\n",
              "    .dataframe tbody tr th:only-of-type {\n",
              "        vertical-align: middle;\n",
              "    }\n",
              "\n",
              "    .dataframe tbody tr th {\n",
              "        vertical-align: top;\n",
              "    }\n",
              "\n",
              "    .dataframe thead th {\n",
              "        text-align: right;\n",
              "    }\n",
              "</style>\n",
              "<table border=\"1\" class=\"dataframe\">\n",
              "  <thead>\n",
              "    <tr style=\"text-align: right;\">\n",
              "      <th></th>\n",
              "      <th>Store</th>\n",
              "      <th>Dept</th>\n",
              "      <th>Weekly_Sales</th>\n",
              "    </tr>\n",
              "  </thead>\n",
              "  <tbody>\n",
              "    <tr>\n",
              "      <th>count</th>\n",
              "      <td>421570.000000</td>\n",
              "      <td>421570.000000</td>\n",
              "      <td>421570.000000</td>\n",
              "    </tr>\n",
              "    <tr>\n",
              "      <th>mean</th>\n",
              "      <td>22.200546</td>\n",
              "      <td>44.260317</td>\n",
              "      <td>15981.258123</td>\n",
              "    </tr>\n",
              "    <tr>\n",
              "      <th>std</th>\n",
              "      <td>12.785297</td>\n",
              "      <td>30.492054</td>\n",
              "      <td>22711.183519</td>\n",
              "    </tr>\n",
              "    <tr>\n",
              "      <th>min</th>\n",
              "      <td>1.000000</td>\n",
              "      <td>1.000000</td>\n",
              "      <td>-4988.940000</td>\n",
              "    </tr>\n",
              "    <tr>\n",
              "      <th>25%</th>\n",
              "      <td>11.000000</td>\n",
              "      <td>18.000000</td>\n",
              "      <td>2079.650000</td>\n",
              "    </tr>\n",
              "    <tr>\n",
              "      <th>50%</th>\n",
              "      <td>22.000000</td>\n",
              "      <td>37.000000</td>\n",
              "      <td>7612.030000</td>\n",
              "    </tr>\n",
              "    <tr>\n",
              "      <th>75%</th>\n",
              "      <td>33.000000</td>\n",
              "      <td>74.000000</td>\n",
              "      <td>20205.852500</td>\n",
              "    </tr>\n",
              "    <tr>\n",
              "      <th>max</th>\n",
              "      <td>45.000000</td>\n",
              "      <td>99.000000</td>\n",
              "      <td>693099.360000</td>\n",
              "    </tr>\n",
              "  </tbody>\n",
              "</table>\n",
              "</div>"
            ],
            "text/plain": [
              "               Store           Dept   Weekly_Sales\n",
              "count  421570.000000  421570.000000  421570.000000\n",
              "mean       22.200546      44.260317   15981.258123\n",
              "std        12.785297      30.492054   22711.183519\n",
              "min         1.000000       1.000000   -4988.940000\n",
              "25%        11.000000      18.000000    2079.650000\n",
              "50%        22.000000      37.000000    7612.030000\n",
              "75%        33.000000      74.000000   20205.852500\n",
              "max        45.000000      99.000000  693099.360000"
            ]
          },
          "metadata": {
            "tags": []
          },
          "execution_count": 39
        }
      ]
    },
    {
      "cell_type": "code",
      "metadata": {
        "id": "dDbDX-QNHnXG",
        "colab": {
          "base_uri": "https://localhost:8080/"
        },
        "outputId": "00620c3f-7963-45cd-8ffd-156d93e3e8d9"
      },
      "source": [
        "# Explore Date Range\n",
        "train['Date'].str.slice(start=0, stop=4).value_counts()"
      ],
      "execution_count": 40,
      "outputs": [
        {
          "output_type": "execute_result",
          "data": {
            "text/plain": [
              "2011    153453\n",
              "2010    140679\n",
              "2012    127438\n",
              "Name: Date, dtype: int64"
            ]
          },
          "metadata": {
            "tags": []
          },
          "execution_count": 40
        }
      ]
    },
    {
      "cell_type": "code",
      "metadata": {
        "id": "MB3Yu5z5Hs8m",
        "colab": {
          "base_uri": "https://localhost:8080/"
        },
        "outputId": "1905c4e7-1a90-4ab4-92d7-bcf2dea62f25"
      },
      "source": [
        "# Validate Holidays\n",
        "train['IsHoliday'][train['Date'].isin(holidays)].value_counts()"
      ],
      "execution_count": 41,
      "outputs": [
        {
          "output_type": "execute_result",
          "data": {
            "text/plain": [
              "True    29661\n",
              "Name: IsHoliday, dtype: int64"
            ]
          },
          "metadata": {
            "tags": []
          },
          "execution_count": 41
        }
      ]
    },
    {
      "cell_type": "code",
      "metadata": {
        "id": "W1BYi78JHvpC",
        "colab": {
          "base_uri": "https://localhost:8080/"
        },
        "outputId": "52d8f75e-2d09-4b16-d251-cdf39e0ad1a9"
      },
      "source": [
        "train['Date'][train['IsHoliday'].isin([1])][~train['Date'].isin(holidays)].value_counts()"
      ],
      "execution_count": 42,
      "outputs": [
        {
          "output_type": "execute_result",
          "data": {
            "text/plain": [
              "Series([], Name: Date, dtype: int64)"
            ]
          },
          "metadata": {
            "tags": []
          },
          "execution_count": 42
        }
      ]
    },
    {
      "cell_type": "code",
      "metadata": {
        "id": "QtN5JwMGHy7-",
        "colab": {
          "base_uri": "https://localhost:8080/",
          "height": 391
        },
        "outputId": "b0b6ae83-2a5f-43b8-892b-84062fede287"
      },
      "source": [
        "#Explore Distribution\n",
        "distribution(train, ['Weekly_Sales'])"
      ],
      "execution_count": 43,
      "outputs": [
        {
          "output_type": "display_data",
          "data": {
            "image/png": "[encoded data removed]",
            "text/plain": [
              "<Figure size 792x360 with 1 Axes>"
            ]
          },
          "metadata": {
            "tags": [],
            "needs_background": "light"
          }
        }
      ]
    },
    {
      "cell_type": "code",
      "metadata": {
        "id": "BLQgx6ixH2zN",
        "colab": {
          "base_uri": "https://localhost:8080/"
        },
        "outputId": "a11568ea-b257-419c-cb97-a1f3d620b175"
      },
      "source": [
        "train['Store'][train['Weekly_Sales'] < 0].count()"
      ],
      "execution_count": 44,
      "outputs": [
        {
          "output_type": "execute_result",
          "data": {
            "text/plain": [
              "1285"
            ]
          },
          "metadata": {
            "tags": []
          },
          "execution_count": 44
        }
      ]
    },
    {
      "cell_type": "code",
      "metadata": {
        "id": "0rfqC50PH5jw"
      },
      "source": [
        "train_outliers = pd.merge(train, stores, how='left', on=['Store'])"
      ],
      "execution_count": 45,
      "outputs": []
    },
    {
      "cell_type": "code",
      "metadata": {
        "id": "_4Qrc_slH8Yx",
        "colab": {
          "base_uri": "https://localhost:8080/"
        },
        "outputId": "1c66b080-53d0-4c24-8bdc-59d421a04a01"
      },
      "source": [
        "# Average Weekly Sales by Store Type\n",
        "train_outliers.groupby(['Type'])['Weekly_Sales'].mean()"
      ],
      "execution_count": 46,
      "outputs": [
        {
          "output_type": "execute_result",
          "data": {
            "text/plain": [
              "Type\n",
              "A    20099.568043\n",
              "B    12237.075977\n",
              "C     9519.532538\n",
              "Name: Weekly_Sales, dtype: float64"
            ]
          },
          "metadata": {
            "tags": []
          },
          "execution_count": 46
        }
      ]
    },
    {
      "cell_type": "code",
      "metadata": {
        "id": "CwoG-b4BIAFZ",
        "colab": {
          "base_uri": "https://localhost:8080/"
        },
        "outputId": "901e894f-6bb0-4bca-c1e0-3d424f75a6d0"
      },
      "source": [
        "# Average Weekly Sales for possibly misclassified Stores\n",
        "train_outliers = train_outliers[train_outliers['Store'].isin([3,5,33,36])]\n",
        "train_outliers.groupby(['Store','Type'])['Weekly_Sales'].mean()"
      ],
      "execution_count": 47,
      "outputs": [
        {
          "output_type": "execute_result",
          "data": {
            "text/plain": [
              "Store  Type\n",
              "3      B       6373.033983\n",
              "5      B       5053.415813\n",
              "33     A       5728.414053\n",
              "36     A       8584.412563\n",
              "Name: Weekly_Sales, dtype: float64"
            ]
          },
          "metadata": {
            "tags": []
          },
          "execution_count": 47
        }
      ]
    },
    {
      "cell_type": "code",
      "metadata": {
        "id": "qnoQOk6GIEDq",
        "colab": {
          "base_uri": "https://localhost:8080/",
          "height": 388
        },
        "outputId": "24d169fa-77ed-4bd7-afc0-456400d4c417"
      },
      "source": [
        "# Average Weekly Sales by Store Type\n",
        "fig, ax = plt.subplots(1, 2, figsize = (15,6))\n",
        "ax[0].bar(train_outliers['Type'].unique(), train_outliers.groupby(['Type'])['Weekly_Sales'].mean())\n",
        "ax[0].set_ylabel('Average Weekly Sales')\n",
        "ax[0].set_xlabel('Store Type')\n",
        "ax[0].yaxis.grid(True, linewidth=0.3)\n",
        "\n",
        "# Average Weekly Sales by Store Type for misclassified stores\n",
        "ax[1].bar([3,5,33,36], train_outliers.groupby(['Store','Type'])['Weekly_Sales'].mean())\n",
        "ax[1].set_ylabel('Average Weekly Sales')\n",
        "ax[1].set_xlabel('Store ID (misclassified)')\n",
        "ax[1].yaxis.grid(True, linewidth=0.3)\n"
      ],
      "execution_count": 48,
      "outputs": [
        {
          "output_type": "display_data",
          "data": {
            "image/png": "[encoded data removed]",
            "text/plain": [
              "<Figure size 1080x432 with 2 Axes>"
            ]
          },
          "metadata": {
            "tags": [],
            "needs_background": "light"
          }
        }
      ]
    },
    {
      "cell_type": "code",
      "metadata": {
        "id": "2-5zpZ7xIGS0"
      },
      "source": [
        "train_outliers = None"
      ],
      "execution_count": 49,
      "outputs": []
    },
    {
      "cell_type": "markdown",
      "metadata": {
        "id": "0mUNTCt_IIxw"
      },
      "source": [
        "Takeaways:\n",
        "1. Column DATE is non-numeric and is a candidate for pre-processing.\n",
        "2. 1285 records with Weekly Sales < 0\n",
        "3. Data spans years 2010, 2011 and 2012\n",
        "4. As suspected above, four stores [3, 5, 33 & 36] seem to have incorrectly classified as Type A & B. Average Weekly Sales for these stores is in line with the average for Type C. Hence, these would need to be reclassified as Type C."
      ]
    },
    {
      "cell_type": "markdown",
      "metadata": {
        "id": "aFCXggWUIPFy"
      },
      "source": [
        "**Test data**"
      ]
    },
    {
      "cell_type": "code",
      "metadata": {
        "id": "YsL8WIBTITY-",
        "colab": {
          "base_uri": "https://localhost:8080/",
          "height": 202
        },
        "outputId": "80573e7f-b76e-4e5c-9813-a8d4e6bc1551"
      },
      "source": [
        "test.head()"
      ],
      "execution_count": 50,
      "outputs": [
        {
          "output_type": "execute_result",
          "data": {
            "text/html": [
              "<div>\n",
              "<style scoped>\n",
              "    .dataframe tbody tr th:only-of-type {\n",
              "        vertical-align: middle;\n",
              "    }\n",
              "\n",
              "    .dataframe tbody tr th {\n",
              "        vertical-align: top;\n",
              "    }\n",
              "\n",
              "    .dataframe thead th {\n",
              "        text-align: right;\n",
              "    }\n",
              "</style>\n",
              "<table border=\"1\" class=\"dataframe\">\n",
              "  <thead>\n",
              "    <tr style=\"text-align: right;\">\n",
              "      <th></th>\n",
              "      <th>Store</th>\n",
              "      <th>Dept</th>\n",
              "      <th>Date</th>\n",
              "      <th>IsHoliday</th>\n",
              "    </tr>\n",
              "  </thead>\n",
              "  <tbody>\n",
              "    <tr>\n",
              "      <th>0</th>\n",
              "      <td>1</td>\n",
              "      <td>1</td>\n",
              "      <td>2012-11-02</td>\n",
              "      <td>False</td>\n",
              "    </tr>\n",
              "    <tr>\n",
              "      <th>1</th>\n",
              "      <td>1</td>\n",
              "      <td>1</td>\n",
              "      <td>2012-11-09</td>\n",
              "      <td>False</td>\n",
              "    </tr>\n",
              "    <tr>\n",
              "      <th>2</th>\n",
              "      <td>1</td>\n",
              "      <td>1</td>\n",
              "      <td>2012-11-16</td>\n",
              "      <td>False</td>\n",
              "    </tr>\n",
              "    <tr>\n",
              "      <th>3</th>\n",
              "      <td>1</td>\n",
              "      <td>1</td>\n",
              "      <td>2012-11-23</td>\n",
              "      <td>True</td>\n",
              "    </tr>\n",
              "    <tr>\n",
              "      <th>4</th>\n",
              "      <td>1</td>\n",
              "      <td>1</td>\n",
              "      <td>2012-11-30</td>\n",
              "      <td>False</td>\n",
              "    </tr>\n",
              "  </tbody>\n",
              "</table>\n",
              "</div>"
            ],
            "text/plain": [
              "   Store  Dept        Date  IsHoliday\n",
              "0      1     1  2012-11-02      False\n",
              "1      1     1  2012-11-09      False\n",
              "2      1     1  2012-11-16      False\n",
              "3      1     1  2012-11-23       True\n",
              "4      1     1  2012-11-30      False"
            ]
          },
          "metadata": {
            "tags": []
          },
          "execution_count": 50
        }
      ]
    },
    {
      "cell_type": "code",
      "metadata": {
        "id": "7Yk_ap4SIX4E",
        "colab": {
          "base_uri": "https://localhost:8080/"
        },
        "outputId": "ae008d2f-813a-4a42-c815-16e31a01cbcf"
      },
      "source": [
        "test.info()"
      ],
      "execution_count": 51,
      "outputs": [
        {
          "output_type": "stream",
          "text": [
            "<class 'pandas.core.frame.DataFrame'>\n",
            "RangeIndex: 115064 entries, 0 to 115063\n",
            "Data columns (total 4 columns):\n",
            " #   Column     Non-Null Count   Dtype \n",
            "---  ------     --------------   ----- \n",
            " 0   Store      115064 non-null  int64 \n",
            " 1   Dept       115064 non-null  int64 \n",
            " 2   Date       115064 non-null  object\n",
            " 3   IsHoliday  115064 non-null  bool  \n",
            "dtypes: bool(1), int64(2), object(1)\n",
            "memory usage: 2.7+ MB\n"
          ],
          "name": "stdout"
        }
      ]
    },
    {
      "cell_type": "code",
      "metadata": {
        "id": "WHPm8_bqIaS-",
        "colab": {
          "base_uri": "https://localhost:8080/",
          "height": 294
        },
        "outputId": "0e846f43-01be-46c6-eb19-5bc20759696b"
      },
      "source": [
        "test.describe()"
      ],
      "execution_count": 52,
      "outputs": [
        {
          "output_type": "execute_result",
          "data": {
            "text/html": [
              "<div>\n",
              "<style scoped>\n",
              "    .dataframe tbody tr th:only-of-type {\n",
              "        vertical-align: middle;\n",
              "    }\n",
              "\n",
              "    .dataframe tbody tr th {\n",
              "        vertical-align: top;\n",
              "    }\n",
              "\n",
              "    .dataframe thead th {\n",
              "        text-align: right;\n",
              "    }\n",
              "</style>\n",
              "<table border=\"1\" class=\"dataframe\">\n",
              "  <thead>\n",
              "    <tr style=\"text-align: right;\">\n",
              "      <th></th>\n",
              "      <th>Store</th>\n",
              "      <th>Dept</th>\n",
              "    </tr>\n",
              "  </thead>\n",
              "  <tbody>\n",
              "    <tr>\n",
              "      <th>count</th>\n",
              "      <td>115064.000000</td>\n",
              "      <td>115064.000000</td>\n",
              "    </tr>\n",
              "    <tr>\n",
              "      <th>mean</th>\n",
              "      <td>22.238207</td>\n",
              "      <td>44.339524</td>\n",
              "    </tr>\n",
              "    <tr>\n",
              "      <th>std</th>\n",
              "      <td>12.809930</td>\n",
              "      <td>30.656410</td>\n",
              "    </tr>\n",
              "    <tr>\n",
              "      <th>min</th>\n",
              "      <td>1.000000</td>\n",
              "      <td>1.000000</td>\n",
              "    </tr>\n",
              "    <tr>\n",
              "      <th>25%</th>\n",
              "      <td>11.000000</td>\n",
              "      <td>18.000000</td>\n",
              "    </tr>\n",
              "    <tr>\n",
              "      <th>50%</th>\n",
              "      <td>22.000000</td>\n",
              "      <td>37.000000</td>\n",
              "    </tr>\n",
              "    <tr>\n",
              "      <th>75%</th>\n",
              "      <td>33.000000</td>\n",
              "      <td>74.000000</td>\n",
              "    </tr>\n",
              "    <tr>\n",
              "      <th>max</th>\n",
              "      <td>45.000000</td>\n",
              "      <td>99.000000</td>\n",
              "    </tr>\n",
              "  </tbody>\n",
              "</table>\n",
              "</div>"
            ],
            "text/plain": [
              "               Store           Dept\n",
              "count  115064.000000  115064.000000\n",
              "mean       22.238207      44.339524\n",
              "std        12.809930      30.656410\n",
              "min         1.000000       1.000000\n",
              "25%        11.000000      18.000000\n",
              "50%        22.000000      37.000000\n",
              "75%        33.000000      74.000000\n",
              "max        45.000000      99.000000"
            ]
          },
          "metadata": {
            "tags": []
          },
          "execution_count": 52
        }
      ]
    },
    {
      "cell_type": "code",
      "metadata": {
        "id": "pTyU-5sfIcx0",
        "colab": {
          "base_uri": "https://localhost:8080/"
        },
        "outputId": "3d4b843f-2302-4597-b5e5-b41ca6140196"
      },
      "source": [
        "test['Date'].str.slice(start=0, stop=4).value_counts()"
      ],
      "execution_count": 53,
      "outputs": [
        {
          "output_type": "execute_result",
          "data": {
            "text/plain": [
              "2013    88275\n",
              "2012    26789\n",
              "Name: Date, dtype: int64"
            ]
          },
          "metadata": {
            "tags": []
          },
          "execution_count": 53
        }
      ]
    },
    {
      "cell_type": "code",
      "metadata": {
        "id": "quuyOd0BIe34",
        "colab": {
          "base_uri": "https://localhost:8080/"
        },
        "outputId": "84042453-2870-4ac0-df1f-11588cebeb9b"
      },
      "source": [
        "# Validate Holidays\n",
        "test['IsHoliday'][test['Date'].isin(holidays)].value_counts()"
      ],
      "execution_count": 54,
      "outputs": [
        {
          "output_type": "execute_result",
          "data": {
            "text/plain": [
              "True    8928\n",
              "Name: IsHoliday, dtype: int64"
            ]
          },
          "metadata": {
            "tags": []
          },
          "execution_count": 54
        }
      ]
    },
    {
      "cell_type": "code",
      "metadata": {
        "id": "gBgJEB31Ig0k",
        "colab": {
          "base_uri": "https://localhost:8080/"
        },
        "outputId": "0098a257-dda3-4cf3-d89a-195b2abb4fa2"
      },
      "source": [
        "test['Date'][test['IsHoliday'].isin([1])][~test['Date'].isin(holidays)].value_counts()"
      ],
      "execution_count": 55,
      "outputs": [
        {
          "output_type": "execute_result",
          "data": {
            "text/plain": [
              "Series([], Name: Date, dtype: int64)"
            ]
          },
          "metadata": {
            "tags": []
          },
          "execution_count": 55
        }
      ]
    },
    {
      "cell_type": "markdown",
      "metadata": {
        "id": "-VfBB2q5IizI"
      },
      "source": [
        "Takeaways:\n",
        "1. Column DATE is non-numeric and is a candidate for pre-processing.\n",
        "2. Data spans years 2012 and 2013"
      ]
    },
    {
      "cell_type": "markdown",
      "metadata": {
        "id": "7puIesA8Im6q"
      },
      "source": [
        "**Data Preprocessing**\n",
        "\n",
        "**Missing/Incorrect Values**\n",
        "\n",
        "Stores Data | Correct Type for 4 stores"
      ]
    },
    {
      "cell_type": "code",
      "metadata": {
        "id": "4ARjvZ7zI4Nj",
        "colab": {
          "base_uri": "https://localhost:8080/"
        },
        "outputId": "bfa2bbc9-2518-4f4e-9619-83a02e64cd80"
      },
      "source": [
        "stores[stores['Store'].isin([3,5,33,36])].index"
      ],
      "execution_count": 56,
      "outputs": [
        {
          "output_type": "execute_result",
          "data": {
            "text/plain": [
              "Int64Index([2, 4, 32, 35], dtype='int64')"
            ]
          },
          "metadata": {
            "tags": []
          },
          "execution_count": 56
        }
      ]
    },
    {
      "cell_type": "code",
      "metadata": {
        "id": "-BNlFK3YI6IK"
      },
      "source": [
        "# re-classifying the misclassified stores to 'C'\n",
        "stores.iat[2, 1] = stores.iat[4, 1] = stores.iat[32, 1] = stores.iat[35, 1] = 'C'"
      ],
      "execution_count": 57,
      "outputs": []
    },
    {
      "cell_type": "markdown",
      "metadata": {
        "id": "bcykt1wgI8hx"
      },
      "source": [
        "Features Data | Negative values for MarkDowns:\n"
      ]
    },
    {
      "cell_type": "code",
      "metadata": {
        "id": "Dm5eUFpgI-YE"
      },
      "source": [
        "features['MarkDown1'] = features['MarkDown1'].apply(lambda x: 0 if x < 0 else x)\n",
        "features['MarkDown2'] = features['MarkDown2'].apply(lambda x: 0 if x < 0 else x)\n",
        "features['MarkDown3'] = features['MarkDown3'].apply(lambda x: 0 if x < 0 else x)\n",
        "features['MarkDown4'] = features['MarkDown4'].apply(lambda x: 0 if x < 0 else x)\n",
        "features['MarkDown5'] = features['MarkDown5'].apply(lambda x: 0 if x < 0 else x)"
      ],
      "execution_count": 58,
      "outputs": []
    },
    {
      "cell_type": "markdown",
      "metadata": {
        "id": "w2Tr6r1gJBtr"
      },
      "source": [
        "Features Data | NaN values for multiple columns:"
      ]
    },
    {
      "cell_type": "markdown",
      "metadata": {
        "id": "Rvnm6bjIJD64"
      },
      "source": [
        "Columns: CPI and Unemployment\n",
        "\n",
        "As noted above, columns are missing values for 3 months May, Jun & Jul 2013. Values from Apr 2019 would be propogated to records with missing values."
      ]
    },
    {
      "cell_type": "code",
      "metadata": {
        "id": "byb-L8CqJGwC",
        "colab": {
          "base_uri": "https://localhost:8080/"
        },
        "outputId": "2f97b0b6-7d28-4f82-f421-6612fb5df10d"
      },
      "source": [
        "%%time\n",
        "# For each Store, propogate values of CPI & Unemployment to the rows with NaN values\n",
        "for i in range(len(features)):\n",
        "\n",
        "    if features.iloc[i]['Date'] == '2013-04-26':\n",
        "        CPI_new = features.iloc[i]['CPI']\n",
        "        Unemployment_new = features.iloc[i]['Unemployment']\n",
        "    \n",
        "    if np.isnan(features.iloc[i]['CPI']):\n",
        "        features.iat[i, 9] = CPI_new\n",
        "        features.iat[i, 10] = Unemployment_new"
      ],
      "execution_count": 59,
      "outputs": [
        {
          "output_type": "stream",
          "text": [
            "CPU times: user 2.19 s, sys: 516 µs, total: 2.19 s\n",
            "Wall time: 2.21 s\n"
          ],
          "name": "stdout"
        }
      ]
    },
    {
      "cell_type": "markdown",
      "metadata": {
        "id": "sdE-Jfo1JL_D"
      },
      "source": [
        "Columns: MarkDown1, MarkDown2, MarkDown3, MarkDown4 & MarkDown5\n",
        "\n",
        "As noted above, columns MARKDOWN* are missing values for the whole of 2010 and 2011 (upto Nov). For each store, 2012 values would be copied over to records with missing values. Also, to facilitate the copy, new columns WEEK and YEAR would be derived from DATE."
      ]
    },
    {
      "cell_type": "code",
      "metadata": {
        "id": "-LVy3uAtJX41",
        "colab": {
          "base_uri": "https://localhost:8080/"
        },
        "outputId": "f828af64-86c0-4a53-d575-5acb73bc41e2"
      },
      "source": [
        "%%time\n",
        "# For each date, retrive the corresponding week number\n",
        "features['Week'] = 0\n",
        "\n",
        "for i in range(len(features)):\n",
        "    features.iat[i, 12] = datetime.date(int(features.iloc[i]['Date'][0:4]), \n",
        "                                        int(features.iloc[i]['Date'][5:7]), \n",
        "                                        int(features.iloc[i]['Date'][8:10])).isocalendar()[1]"
      ],
      "execution_count": 60,
      "outputs": [
        {
          "output_type": "stream",
          "text": [
            "CPU times: user 3.59 s, sys: 0 ns, total: 3.59 s\n",
            "Wall time: 3.61 s\n"
          ],
          "name": "stdout"
        }
      ]
    },
    {
      "cell_type": "code",
      "metadata": {
        "id": "2pAStNrkJbJv"
      },
      "source": [
        "features['Year'] = features['Date'].str.slice(start=0, stop=4)"
      ],
      "execution_count": 61,
      "outputs": []
    },
    {
      "cell_type": "code",
      "metadata": {
        "id": "L0lf9i7SJd5A",
        "colab": {
          "base_uri": "https://localhost:8080/",
          "height": 171
        },
        "outputId": "a4b5d612-1b40-4a58-fa17-4180092dd93a"
      },
      "source": [
        "#missing data for 2012 & 2013\n",
        "total = features[features['Year'].isin(['2012','2013'])].isnull().sum().sort_values(ascending=False)\n",
        "percent = (features[features['Year'].isin(['2012','2013'])].isnull().sum()/\n",
        "           features[features['Year'].isin(['2012','2013'])].isnull().count()).sort_values(ascending=False)\n",
        "missing_data = pd.concat([total, percent], axis=1, keys=['Total', 'Percent'])\n",
        "missing_data.head(4)"
      ],
      "execution_count": 62,
      "outputs": [
        {
          "output_type": "execute_result",
          "data": {
            "text/html": [
              "<div>\n",
              "<style scoped>\n",
              "    .dataframe tbody tr th:only-of-type {\n",
              "        vertical-align: middle;\n",
              "    }\n",
              "\n",
              "    .dataframe tbody tr th {\n",
              "        vertical-align: top;\n",
              "    }\n",
              "\n",
              "    .dataframe thead th {\n",
              "        text-align: right;\n",
              "    }\n",
              "</style>\n",
              "<table border=\"1\" class=\"dataframe\">\n",
              "  <thead>\n",
              "    <tr style=\"text-align: right;\">\n",
              "      <th></th>\n",
              "      <th>Total</th>\n",
              "      <th>Percent</th>\n",
              "    </tr>\n",
              "  </thead>\n",
              "  <tbody>\n",
              "    <tr>\n",
              "      <th>MarkDown2</th>\n",
              "      <td>1062</td>\n",
              "      <td>0.287805</td>\n",
              "    </tr>\n",
              "    <tr>\n",
              "      <th>MarkDown4</th>\n",
              "      <td>528</td>\n",
              "      <td>0.143089</td>\n",
              "    </tr>\n",
              "    <tr>\n",
              "      <th>MarkDown3</th>\n",
              "      <td>419</td>\n",
              "      <td>0.113550</td>\n",
              "    </tr>\n",
              "    <tr>\n",
              "      <th>MarkDown1</th>\n",
              "      <td>12</td>\n",
              "      <td>0.003252</td>\n",
              "    </tr>\n",
              "  </tbody>\n",
              "</table>\n",
              "</div>"
            ],
            "text/plain": [
              "           Total   Percent\n",
              "MarkDown2   1062  0.287805\n",
              "MarkDown4    528  0.143089\n",
              "MarkDown3    419  0.113550\n",
              "MarkDown1     12  0.003252"
            ]
          },
          "metadata": {
            "tags": []
          },
          "execution_count": 62
        }
      ]
    },
    {
      "cell_type": "code",
      "metadata": {
        "id": "YC8PQdx9Jivn",
        "colab": {
          "base_uri": "https://localhost:8080/"
        },
        "outputId": "bae3f37d-a30b-439c-e071-f1b6924fb73f"
      },
      "source": [
        "%%time\n",
        "# For 2010 & 2011 records, for each store, copy over MarkDown values from 2012\n",
        "\n",
        "# Iterate through stores\n",
        "for i in range(1, len(features['Store'].unique())):\n",
        "    \n",
        "    # For 2010, iterate through weeks 5 thru 52\n",
        "    for j in range(5, 52):\n",
        "        idx = features.loc[(features.Year == '2010') & (features.Store == i) & (features.Week == j),['Date']].index[0]\n",
        "        \n",
        "        features.iat[idx, 4] = features.loc[(features.Year == '2012') & (features.Store == i) & (features.Week == j),['MarkDown1']].values[0]\n",
        "        features.iat[idx, 5] = features.loc[(features.Year == '2012') & (features.Store == i) & (features.Week == j),['MarkDown2']].values[0]\n",
        "        features.iat[idx, 6] = features.loc[(features.Year == '2012') & (features.Store == i) & (features.Week == j),['MarkDown3']].values[0]\n",
        "        features.iat[idx, 7] = features.loc[(features.Year == '2012') & (features.Store == i) & (features.Week == j),['MarkDown4']].values[0]\n",
        "        features.iat[idx, 8] = features.loc[(features.Year == '2012') & (features.Store == i) & (features.Week == j),['MarkDown5']].values[0]\n",
        "        \n",
        "    # For 2011, iterate through weeks 1 thru 44\n",
        "    for j in range(1, 44):\n",
        "        idx = features.loc[(features.Year == '2011') & (features.Store == i) & (features.Week == j),['Date']].index[0]\n",
        "        \n",
        "        features.iat[idx, 4] = features.loc[(features.Year == '2012') & (features.Store == i) & (features.Week == j),['MarkDown1']].values[0]\n",
        "        features.iat[idx, 5] = features.loc[(features.Year == '2012') & (features.Store == i) & (features.Week == j),['MarkDown2']].values[0]\n",
        "        features.iat[idx, 6] = features.loc[(features.Year == '2012') & (features.Store == i) & (features.Week == j),['MarkDown3']].values[0]\n",
        "        features.iat[idx, 7] = features.loc[(features.Year == '2012') & (features.Store == i) & (features.Week == j),['MarkDown4']].values[0]\n",
        "        features.iat[idx, 8] = features.loc[(features.Year == '2012') & (features.Store == i) & (features.Week == j),['MarkDown5']].values[0]"
      ],
      "execution_count": 63,
      "outputs": [
        {
          "output_type": "stream",
          "text": [
            "CPU times: user 57.1 s, sys: 40.6 ms, total: 57.1 s\n",
            "Wall time: 57.2 s\n"
          ],
          "name": "stdout"
        }
      ]
    },
    {
      "cell_type": "code",
      "metadata": {
        "id": "LGPyUhGdLI-X"
      },
      "source": [
        "features.drop(columns=['Year'], axis=1, inplace=True)"
      ],
      "execution_count": 64,
      "outputs": []
    },
    {
      "cell_type": "code",
      "metadata": {
        "id": "YeBq-sYpLLkc"
      },
      "source": [
        "# Now fill all the missing MarkDown values with 0\n",
        "features.fillna(0, inplace=True)"
      ],
      "execution_count": 65,
      "outputs": []
    },
    {
      "cell_type": "markdown",
      "metadata": {
        "id": "_13HuD4ELN5J"
      },
      "source": [
        "Train Data | Negative Values for Weekly Sales"
      ]
    },
    {
      "cell_type": "code",
      "metadata": {
        "id": "MvI5vm4nLQCi"
      },
      "source": [
        "train['Weekly_Sales'] = train['Weekly_Sales'].apply(lambda x: 0 if x < 0 else x)"
      ],
      "execution_count": 66,
      "outputs": []
    },
    {
      "cell_type": "markdown",
      "metadata": {
        "id": "WzVFz56cLSna"
      },
      "source": [
        "**Merge Datasets**\n",
        "\n",
        "Merge the following datasets:\n",
        "1. Stores + Features + Train\n",
        "2. Stores + Features + Test\n",
        "3. Remove duplicate columns from each dataset"
      ]
    },
    {
      "cell_type": "code",
      "metadata": {
        "id": "U7wFGbJDLbYk"
      },
      "source": [
        "train = pd.merge(train, stores, how='left', on=['Store'])\n",
        "train = pd.merge(train, features, how='left', on=['Store','Date'])\n",
        "\n",
        "test = pd.merge(test, stores, how='left', on=['Store'])\n",
        "test = pd.merge(test, features, how='left', on=['Store','Date'])"
      ],
      "execution_count": 67,
      "outputs": []
    },
    {
      "cell_type": "code",
      "metadata": {
        "id": "vAVF5Q87Ldw7",
        "colab": {
          "base_uri": "https://localhost:8080/"
        },
        "outputId": "e6490fa2-c224-459c-f0c8-fb8c7c013d81"
      },
      "source": [
        "train['Store'][train['IsHoliday_x'] != train['IsHoliday_y']].count()"
      ],
      "execution_count": 68,
      "outputs": [
        {
          "output_type": "execute_result",
          "data": {
            "text/plain": [
              "0"
            ]
          },
          "metadata": {
            "tags": []
          },
          "execution_count": 68
        }
      ]
    },
    {
      "cell_type": "code",
      "metadata": {
        "id": "-PPP_BSXLf_4",
        "colab": {
          "base_uri": "https://localhost:8080/"
        },
        "outputId": "8f81d91b-afb7-4893-e77c-359d9dfd449c"
      },
      "source": [
        "test['Store'][test['IsHoliday_x'] != test['IsHoliday_y']].count()"
      ],
      "execution_count": 69,
      "outputs": [
        {
          "output_type": "execute_result",
          "data": {
            "text/plain": [
              "0"
            ]
          },
          "metadata": {
            "tags": []
          },
          "execution_count": 69
        }
      ]
    },
    {
      "cell_type": "code",
      "metadata": {
        "id": "ngk9sAPQLiWW"
      },
      "source": [
        "train.drop(columns=['IsHoliday_y'], axis=1, inplace=True)\n",
        "test.drop(columns=['IsHoliday_y'], axis=1, inplace=True)"
      ],
      "execution_count": 70,
      "outputs": []
    },
    {
      "cell_type": "code",
      "metadata": {
        "id": "EFDK5CTdLlMc"
      },
      "source": [
        "train.rename(columns={'IsHoliday_x': 'IsHoliday'}, inplace=True)\n",
        "test.rename(columns={'IsHoliday_x': 'IsHoliday'}, inplace=True)"
      ],
      "execution_count": 71,
      "outputs": []
    },
    {
      "cell_type": "markdown",
      "metadata": {
        "id": "Mq3Tz30VLnN7"
      },
      "source": [
        "**Feature Engineering**\n",
        "\n",
        "Column #1: IsHoliday\n",
        "\n",
        "Column has boolean values and would need to be converted to numeric."
      ]
    },
    {
      "cell_type": "code",
      "metadata": {
        "id": "SUcybRwwLsvY"
      },
      "source": [
        "train['IsHoliday'] = train['IsHoliday'].apply(lambda x: 1 if x==True else 0)\n",
        "test['IsHoliday'] = test['IsHoliday'].apply(lambda x: 1 if x==True else 0)"
      ],
      "execution_count": 72,
      "outputs": []
    },
    {
      "cell_type": "markdown",
      "metadata": {
        "id": "eLpehgt2LzY_"
      },
      "source": [
        "Column #2: Type\n",
        "\n",
        "Column is categorical and would be converted to numeric via one-hot encoding"
      ]
    },
    {
      "cell_type": "code",
      "metadata": {
        "id": "9NjOWIf5L2kN"
      },
      "source": [
        "train = pd.get_dummies(train, columns=['Type'])\n",
        "test = pd.get_dummies(test, columns=['Type'])"
      ],
      "execution_count": 73,
      "outputs": []
    },
    {
      "cell_type": "markdown",
      "metadata": {
        "id": "X1UpdT-XKCn7"
      },
      "source": [
        "Column #3: Week\n",
        "\n",
        "New numeric column being created to replace YEAR."
      ]
    },
    {
      "cell_type": "code",
      "metadata": {
        "id": "UFhwR7_7KFZ6"
      },
      "source": [
        "train['Week'] = test['Week'] = 0"
      ],
      "execution_count": 74,
      "outputs": []
    },
    {
      "cell_type": "code",
      "metadata": {
        "id": "auuYgVFpK3rF",
        "colab": {
          "base_uri": "https://localhost:8080/"
        },
        "outputId": "041050f2-a885-4340-c313-ce951f28d71f"
      },
      "source": [
        "%%time\n",
        "# For each date, retrive the corresponding week number\n",
        "for i in range(len(train)):\n",
        "    train.iat[i, 15] = datetime.date(int(train.iloc[i]['Date'][0:4]), \n",
        "                                     int(train.iloc[i]['Date'][5:7]), \n",
        "                                     int(train.iloc[i]['Date'][8:10])).isocalendar()[1]"
      ],
      "execution_count": 75,
      "outputs": [
        {
          "output_type": "stream",
          "text": [
            "CPU times: user 3min 37s, sys: 47.2 ms, total: 3min 37s\n",
            "Wall time: 3min 37s\n"
          ],
          "name": "stdout"
        }
      ]
    },
    {
      "cell_type": "code",
      "metadata": {
        "id": "JC_5_rLYMzFr",
        "colab": {
          "base_uri": "https://localhost:8080/"
        },
        "outputId": "81070654-10c0-436b-88c0-6beb6194c595"
      },
      "source": [
        "%%time\n",
        "# For each date, retrive the corresponding week number\n",
        "for i in range(len(test)):\n",
        "    test.iat[i, 14] = datetime.date(int(test.iloc[i]['Date'][0:4]), \n",
        "                                    int(test.iloc[i]['Date'][5:7]), \n",
        "                                    int(test.iloc[i]['Date'][8:10])).isocalendar()[1]"
      ],
      "execution_count": 76,
      "outputs": [
        {
          "output_type": "stream",
          "text": [
            "CPU times: user 58.1 s, sys: 13 ms, total: 58.1 s\n",
            "Wall time: 58.2 s\n"
          ],
          "name": "stdout"
        }
      ]
    },
    {
      "cell_type": "code",
      "metadata": {
        "id": "DVp3OA8gNFQX"
      },
      "source": [
        "# Create checkpoint\n",
        "train.to_csv('train_prescaled.csv', index=False)\n",
        "test.to_csv('test_prescaled.csv', index=False)"
      ],
      "execution_count": 77,
      "outputs": []
    },
    {
      "cell_type": "code",
      "metadata": {
        "id": "W5pHEY5dNQwO"
      },
      "source": [
        "# Restore checkpoint\n",
        "train = pd.read_csv(\"train_prescaled.csv\")\n",
        "test = pd.read_csv(\"test_prescaled.csv\")"
      ],
      "execution_count": null,
      "outputs": []
    },
    {
      "cell_type": "code",
      "metadata": {
        "id": "QySb8YzeNfmJ"
      },
      "source": [
        "# Create Submission dataframe\n",
        "submission = test[['Store', 'Dept', 'Date']].copy()\n",
        "submission['Id'] = submission['Store'].map(str) + '_' + submission['Dept'].map(str) + '_' + submission['Date'].map(str)\n",
        "submission.drop(['Store', 'Dept', 'Date'], axis=1, inplace=True)"
      ],
      "execution_count": 79,
      "outputs": []
    },
    {
      "cell_type": "code",
      "metadata": {
        "id": "-SaL-BQwNh_A"
      },
      "source": [
        "train['Year'] = train['Date'].str.slice(start=0, stop=4)\n",
        "test['Year'] = test['Date'].str.slice(start=0, stop=4)"
      ],
      "execution_count": 80,
      "outputs": []
    },
    {
      "cell_type": "code",
      "metadata": {
        "id": "GjhfB5W1NkjX"
      },
      "source": [
        "# Drop non-numeric columns\n",
        "train.drop(columns=['Date'], axis=1, inplace=True)\n",
        "test.drop(columns=['Date'], axis=1, inplace=True)"
      ],
      "execution_count": 81,
      "outputs": []
    },
    {
      "cell_type": "markdown",
      "metadata": {
        "id": "V6RSHaxyNm-c"
      },
      "source": [
        "**Log Transform Skewed Features**"
      ]
    },
    {
      "cell_type": "code",
      "metadata": {
        "id": "WGY6_u2GOdSv"
      },
      "source": [
        "skewed = ['MarkDown1','MarkDown2','MarkDown3','MarkDown4','MarkDown5']\n",
        "train[skewed] = train[skewed].apply(lambda x: np.log(x + 1))\n",
        "test[skewed] = test[skewed].apply(lambda x: np.log(x + 1))"
      ],
      "execution_count": 82,
      "outputs": []
    },
    {
      "cell_type": "code",
      "metadata": {
        "id": "BbJ8PlGYO5ut"
      },
      "source": [
        "log_constant = 0"
      ],
      "execution_count": 83,
      "outputs": []
    },
    {
      "cell_type": "code",
      "metadata": {
        "id": "FNlhnAFgO9DK"
      },
      "source": [
        "train['Weekly_Sales'] = train['Weekly_Sales'].apply(lambda x: np.log(x + 1 + log_constant))"
      ],
      "execution_count": 84,
      "outputs": []
    },
    {
      "cell_type": "code",
      "metadata": {
        "id": "MYigQAVkO_4O",
        "colab": {
          "base_uri": "https://localhost:8080/",
          "height": 391
        },
        "outputId": "96ddec84-8a4c-4729-b320-cea367addc95"
      },
      "source": [
        "distribution(train, ['Weekly_Sales'])"
      ],
      "execution_count": 85,
      "outputs": [
        {
          "output_type": "display_data",
          "data": {
            "image/png": "[encoded data removed]",
            "text/plain": [
              "<Figure size 792x360 with 1 Axes>"
            ]
          },
          "metadata": {
            "tags": [],
            "needs_background": "light"
          }
        }
      ]
    },
    {
      "cell_type": "markdown",
      "metadata": {
        "id": "e8pAlwAePFYp"
      },
      "source": [
        "**Analyze Feature Correlation**"
      ]
    },
    {
      "cell_type": "code",
      "metadata": {
        "id": "d97gbKmqPIha",
        "colab": {
          "base_uri": "https://localhost:8080/",
          "height": 807
        },
        "outputId": "952c29a3-2bef-44fb-de51-d6bdc6bd02aa"
      },
      "source": [
        "colormap = plt.cm.RdBu\n",
        "corr = train.astype(float).corr()\n",
        "\n",
        "plt.figure(figsize=(14,12))\n",
        "plt.title('Pearson Correlation of Features', y=1.05, size=15)\n",
        "sns.set(font_scale=0.9)\n",
        "sns.heatmap(round(corr,2),linewidths=0.1,vmax=1.0, square=True, \n",
        "            cmap=colormap, linecolor='white', annot=True)"
      ],
      "execution_count": 86,
      "outputs": [
        {
          "output_type": "execute_result",
          "data": {
            "text/plain": [
              "<matplotlib.axes._subplots.AxesSubplot at 0x7fa34c50ecc0>"
            ]
          },
          "metadata": {
            "tags": []
          },
          "execution_count": 86
        },
        {
          "output_type": "display_data",
          "data": {
            "image/png": "[encoded data removed]",
            "text/plain": [
              "<Figure size 1008x864 with 2 Axes>"
            ]
          },
          "metadata": {
            "tags": [],
            "needs_background": "light"
          }
        }
      ]
    },
    {
      "cell_type": "code",
      "metadata": {
        "id": "tq9rhAwNPPrJ"
      },
      "source": [
        "corr_cutoff = 0.8\n",
        "columns = np.full((corr.shape[0],), True, dtype=bool)\n",
        "\n",
        "for i in range(corr.shape[0]):\n",
        "    for j in range(i+1, corr.shape[0]):\n",
        "        if corr.iloc[i,j] >= corr_cutoff:\n",
        "            if columns[j]:\n",
        "                columns[j] = False\n",
        "                \n",
        "selected_columns = train.columns[columns]\n",
        "highcorr_columns = train.columns.difference(selected_columns)"
      ],
      "execution_count": 87,
      "outputs": []
    },
    {
      "cell_type": "code",
      "metadata": {
        "id": "iVURTOcQPUXd",
        "colab": {
          "base_uri": "https://localhost:8080/"
        },
        "outputId": "4a8f8c83-b821-418e-91fe-3d60c3a5df0c"
      },
      "source": [
        "highcorr_columns"
      ],
      "execution_count": 88,
      "outputs": [
        {
          "output_type": "execute_result",
          "data": {
            "text/plain": [
              "Index(['MarkDown4', 'Type_A'], dtype='object')"
            ]
          },
          "metadata": {
            "tags": []
          },
          "execution_count": 88
        }
      ]
    },
    {
      "cell_type": "code",
      "metadata": {
        "id": "GI2juAUOPerO"
      },
      "source": [
        "train.drop(columns=highcorr_columns, axis=1, inplace=True)\n",
        "test.drop(columns=highcorr_columns, axis=1, inplace=True)"
      ],
      "execution_count": 89,
      "outputs": []
    },
    {
      "cell_type": "markdown",
      "metadata": {
        "id": "u5KAlY0sPie6"
      },
      "source": [
        "Takeaway:\n",
        "\n",
        "MarkDown4 and Type_A are highly correlated to other existing features and have been dropped.\n"
      ]
    },
    {
      "cell_type": "markdown",
      "metadata": {
        "id": "IaTtnwu5PwHf"
      },
      "source": [
        "**Split Training dataset into Train & Validation**"
      ]
    },
    {
      "cell_type": "code",
      "metadata": {
        "id": "VZa7yX7LPiHe",
        "colab": {
          "base_uri": "https://localhost:8080/"
        },
        "outputId": "476dfa7f-fac9-4228-cca7-4737010e8fa7"
      },
      "source": [
        "train_X, val_X, train_y, val_y = train_test_split(train.drop('Weekly_Sales', axis = 1), \n",
        "                                                  train['Weekly_Sales'], \n",
        "                                                  test_size = 0.2, \n",
        "                                                  random_state = 0)\n",
        "\n",
        "# Show the results of the split\n",
        "print(\"Training set has {} samples.\".format(train_X.shape[0]))\n",
        "print(\"Validation set has {} samples.\".format(val_X.shape[0]))"
      ],
      "execution_count": 90,
      "outputs": [
        {
          "output_type": "stream",
          "text": [
            "Training set has 337256 samples.\n",
            "Validation set has 84314 samples.\n"
          ],
          "name": "stdout"
        }
      ]
    },
    {
      "cell_type": "code",
      "metadata": {
        "id": "AqDNBDPmP3j8",
        "colab": {
          "base_uri": "https://localhost:8080/"
        },
        "outputId": "c6c787be-f6bc-4268-8448-51bb436282ec"
      },
      "source": [
        "# Validate shape\n",
        "train_X.shape, train_y.shape, val_X.shape, val_y.shape, test.shape"
      ],
      "execution_count": 91,
      "outputs": [
        {
          "output_type": "execute_result",
          "data": {
            "text/plain": [
              "((337256, 16), (337256,), (84314, 16), (84314,), (115064, 16))"
            ]
          },
          "metadata": {
            "tags": []
          },
          "execution_count": 91
        }
      ]
    },
    {
      "cell_type": "markdown",
      "metadata": {
        "id": "k8sxI9VUP5_o"
      },
      "source": [
        "**Scale Datasets**"
      ]
    },
    {
      "cell_type": "code",
      "metadata": {
        "id": "tpS_X8veP-_k",
        "colab": {
          "base_uri": "https://localhost:8080/",
          "height": 222
        },
        "outputId": "76112a89-b42e-4e22-8a82-0196b7a2dd97"
      },
      "source": [
        "# Initialize a scaler, then apply it to the features\n",
        "scaler = MinMaxScaler() # default=(0, 1)\n",
        "\n",
        "high_corr_elmtd = []\n",
        "numerical = ['Store', 'Dept', 'IsHoliday', 'Size', 'Temperature', 'Fuel_Price', \n",
        "             'CPI', 'Unemployment', 'Week', 'Type_B', 'Type_C',\n",
        "             'MarkDown1','MarkDown2','MarkDown3','MarkDown5']\n",
        "\n",
        "for col in numerical:\n",
        "  if col not in highcorr_columns:\n",
        "    high_corr_elmtd.append(col)\n",
        "\n",
        "numerical = high_corr_elmtd\n",
        "\n",
        "train_scaled = pd.DataFrame(data = train_X)\n",
        "\n",
        "train_scaled[numerical] = scaler.fit_transform(train_X[numerical])\n",
        "\n",
        "# Show an example of a record with scaling applied\n",
        "display(train_scaled.head(n = 5))"
      ],
      "execution_count": 92,
      "outputs": [
        {
          "output_type": "display_data",
          "data": {
            "text/html": [
              "<div>\n",
              "<style scoped>\n",
              "    .dataframe tbody tr th:only-of-type {\n",
              "        vertical-align: middle;\n",
              "    }\n",
              "\n",
              "    .dataframe tbody tr th {\n",
              "        vertical-align: top;\n",
              "    }\n",
              "\n",
              "    .dataframe thead th {\n",
              "        text-align: right;\n",
              "    }\n",
              "</style>\n",
              "<table border=\"1\" class=\"dataframe\">\n",
              "  <thead>\n",
              "    <tr style=\"text-align: right;\">\n",
              "      <th></th>\n",
              "      <th>Store</th>\n",
              "      <th>Dept</th>\n",
              "      <th>IsHoliday</th>\n",
              "      <th>Size</th>\n",
              "      <th>Temperature</th>\n",
              "      <th>Fuel_Price</th>\n",
              "      <th>MarkDown1</th>\n",
              "      <th>MarkDown2</th>\n",
              "      <th>MarkDown3</th>\n",
              "      <th>MarkDown5</th>\n",
              "      <th>CPI</th>\n",
              "      <th>Unemployment</th>\n",
              "      <th>Week</th>\n",
              "      <th>Type_B</th>\n",
              "      <th>Type_C</th>\n",
              "      <th>Year</th>\n",
              "    </tr>\n",
              "  </thead>\n",
              "  <tbody>\n",
              "    <tr>\n",
              "      <th>201850</th>\n",
              "      <td>0.454545</td>\n",
              "      <td>0.316327</td>\n",
              "      <td>0.0</td>\n",
              "      <td>0.569925</td>\n",
              "      <td>0.438160</td>\n",
              "      <td>0.272545</td>\n",
              "      <td>0.737133</td>\n",
              "      <td>0.605471</td>\n",
              "      <td>0.125485</td>\n",
              "      <td>0.610801</td>\n",
              "      <td>0.844356</td>\n",
              "      <td>0.397642</td>\n",
              "      <td>0.039216</td>\n",
              "      <td>1.0</td>\n",
              "      <td>0.0</td>\n",
              "      <td>2011</td>\n",
              "    </tr>\n",
              "    <tr>\n",
              "      <th>263688</th>\n",
              "      <td>0.590909</td>\n",
              "      <td>0.581633</td>\n",
              "      <td>0.0</td>\n",
              "      <td>0.916437</td>\n",
              "      <td>0.788454</td>\n",
              "      <td>0.194389</td>\n",
              "      <td>0.890191</td>\n",
              "      <td>0.355430</td>\n",
              "      <td>0.472189</td>\n",
              "      <td>0.633988</td>\n",
              "      <td>0.104035</td>\n",
              "      <td>0.393234</td>\n",
              "      <td>0.666667</td>\n",
              "      <td>0.0</td>\n",
              "      <td>0.0</td>\n",
              "      <td>2010</td>\n",
              "    </tr>\n",
              "    <tr>\n",
              "      <th>147390</th>\n",
              "      <td>0.318182</td>\n",
              "      <td>0.948980</td>\n",
              "      <td>0.0</td>\n",
              "      <td>0.480993</td>\n",
              "      <td>0.604207</td>\n",
              "      <td>0.184369</td>\n",
              "      <td>0.751482</td>\n",
              "      <td>0.262312</td>\n",
              "      <td>0.042536</td>\n",
              "      <td>0.635216</td>\n",
              "      <td>0.066155</td>\n",
              "      <td>0.401380</td>\n",
              "      <td>0.745098</td>\n",
              "      <td>1.0</td>\n",
              "      <td>0.0</td>\n",
              "      <td>2010</td>\n",
              "    </tr>\n",
              "    <tr>\n",
              "      <th>169866</th>\n",
              "      <td>0.386364</td>\n",
              "      <td>0.183673</td>\n",
              "      <td>0.0</td>\n",
              "      <td>0.464300</td>\n",
              "      <td>0.714090</td>\n",
              "      <td>0.579659</td>\n",
              "      <td>0.791126</td>\n",
              "      <td>0.534033</td>\n",
              "      <td>0.072421</td>\n",
              "      <td>0.617590</td>\n",
              "      <td>0.119591</td>\n",
              "      <td>0.424094</td>\n",
              "      <td>0.470588</td>\n",
              "      <td>1.0</td>\n",
              "      <td>0.0</td>\n",
              "      <td>2012</td>\n",
              "    </tr>\n",
              "    <tr>\n",
              "      <th>253398</th>\n",
              "      <td>0.568182</td>\n",
              "      <td>0.551020</td>\n",
              "      <td>0.0</td>\n",
              "      <td>0.636752</td>\n",
              "      <td>0.481703</td>\n",
              "      <td>0.759519</td>\n",
              "      <td>0.664863</td>\n",
              "      <td>0.304229</td>\n",
              "      <td>0.261758</td>\n",
              "      <td>0.566154</td>\n",
              "      <td>0.082750</td>\n",
              "      <td>0.377516</td>\n",
              "      <td>0.313725</td>\n",
              "      <td>0.0</td>\n",
              "      <td>0.0</td>\n",
              "      <td>2011</td>\n",
              "    </tr>\n",
              "  </tbody>\n",
              "</table>\n",
              "</div>"
            ],
            "text/plain": [
              "           Store      Dept  IsHoliday      Size  Temperature  Fuel_Price  \\\n",
              "201850  0.454545  0.316327        0.0  0.569925     0.438160    0.272545   \n",
              "263688  0.590909  0.581633        0.0  0.916437     0.788454    0.194389   \n",
              "147390  0.318182  0.948980        0.0  0.480993     0.604207    0.184369   \n",
              "169866  0.386364  0.183673        0.0  0.464300     0.714090    0.579659   \n",
              "253398  0.568182  0.551020        0.0  0.636752     0.481703    0.759519   \n",
              "\n",
              "        MarkDown1  MarkDown2  MarkDown3  MarkDown5       CPI  Unemployment  \\\n",
              "201850   0.737133   0.605471   0.125485   0.610801  0.844356      0.397642   \n",
              "263688   0.890191   0.355430   0.472189   0.633988  0.104035      0.393234   \n",
              "147390   0.751482   0.262312   0.042536   0.635216  0.066155      0.401380   \n",
              "169866   0.791126   0.534033   0.072421   0.617590  0.119591      0.424094   \n",
              "253398   0.664863   0.304229   0.261758   0.566154  0.082750      0.377516   \n",
              "\n",
              "            Week  Type_B  Type_C  Year  \n",
              "201850  0.039216     1.0     0.0  2011  \n",
              "263688  0.666667     0.0     0.0  2010  \n",
              "147390  0.745098     1.0     0.0  2010  \n",
              "169866  0.470588     1.0     0.0  2012  \n",
              "253398  0.313725     0.0     0.0  2011  "
            ]
          },
          "metadata": {
            "tags": []
          }
        }
      ]
    },
    {
      "cell_type": "code",
      "metadata": {
        "id": "a_9BVy4JQL2R",
        "colab": {
          "base_uri": "https://localhost:8080/",
          "height": 222
        },
        "outputId": "99a28f95-1a25-4188-9ba4-1c2d3802642f"
      },
      "source": [
        "val_scaled = pd.DataFrame(data = val_X)\n",
        "val_scaled[numerical] = scaler.transform(val_X[numerical])\n",
        "\n",
        "# Show an example of a record with scaling applied\n",
        "display(val_scaled.head(n = 5))"
      ],
      "execution_count": 93,
      "outputs": [
        {
          "output_type": "display_data",
          "data": {
            "text/html": [
              "<div>\n",
              "<style scoped>\n",
              "    .dataframe tbody tr th:only-of-type {\n",
              "        vertical-align: middle;\n",
              "    }\n",
              "\n",
              "    .dataframe tbody tr th {\n",
              "        vertical-align: top;\n",
              "    }\n",
              "\n",
              "    .dataframe thead th {\n",
              "        text-align: right;\n",
              "    }\n",
              "</style>\n",
              "<table border=\"1\" class=\"dataframe\">\n",
              "  <thead>\n",
              "    <tr style=\"text-align: right;\">\n",
              "      <th></th>\n",
              "      <th>Store</th>\n",
              "      <th>Dept</th>\n",
              "      <th>IsHoliday</th>\n",
              "      <th>Size</th>\n",
              "      <th>Temperature</th>\n",
              "      <th>Fuel_Price</th>\n",
              "      <th>MarkDown1</th>\n",
              "      <th>MarkDown2</th>\n",
              "      <th>MarkDown3</th>\n",
              "      <th>MarkDown5</th>\n",
              "      <th>CPI</th>\n",
              "      <th>Unemployment</th>\n",
              "      <th>Week</th>\n",
              "      <th>Type_B</th>\n",
              "      <th>Type_C</th>\n",
              "      <th>Year</th>\n",
              "    </tr>\n",
              "  </thead>\n",
              "  <tbody>\n",
              "    <tr>\n",
              "      <th>233571</th>\n",
              "      <td>0.522727</td>\n",
              "      <td>0.551020</td>\n",
              "      <td>0.0</td>\n",
              "      <td>0.914461</td>\n",
              "      <td>0.565656</td>\n",
              "      <td>0.861723</td>\n",
              "      <td>0.865404</td>\n",
              "      <td>0.455363</td>\n",
              "      <td>0.443000</td>\n",
              "      <td>0.627616</td>\n",
              "      <td>0.083527</td>\n",
              "      <td>0.415277</td>\n",
              "      <td>0.333333</td>\n",
              "      <td>0.0</td>\n",
              "      <td>0.0</td>\n",
              "      <td>2011</td>\n",
              "    </tr>\n",
              "    <tr>\n",
              "      <th>88992</th>\n",
              "      <td>0.204545</td>\n",
              "      <td>0.102041</td>\n",
              "      <td>0.0</td>\n",
              "      <td>0.496013</td>\n",
              "      <td>0.692955</td>\n",
              "      <td>0.329659</td>\n",
              "      <td>0.805416</td>\n",
              "      <td>0.360259</td>\n",
              "      <td>0.387339</td>\n",
              "      <td>0.496319</td>\n",
              "      <td>0.003681</td>\n",
              "      <td>0.491087</td>\n",
              "      <td>0.823529</td>\n",
              "      <td>1.0</td>\n",
              "      <td>0.0</td>\n",
              "      <td>2010</td>\n",
              "    </tr>\n",
              "    <tr>\n",
              "      <th>367842</th>\n",
              "      <td>0.863636</td>\n",
              "      <td>0.591837</td>\n",
              "      <td>0.0</td>\n",
              "      <td>0.807775</td>\n",
              "      <td>0.834638</td>\n",
              "      <td>0.090681</td>\n",
              "      <td>0.781498</td>\n",
              "      <td>0.476005</td>\n",
              "      <td>0.057754</td>\n",
              "      <td>0.802748</td>\n",
              "      <td>0.830627</td>\n",
              "      <td>0.439429</td>\n",
              "      <td>0.470588</td>\n",
              "      <td>0.0</td>\n",
              "      <td>0.0</td>\n",
              "      <td>2010</td>\n",
              "    </tr>\n",
              "    <tr>\n",
              "      <th>184359</th>\n",
              "      <td>0.409091</td>\n",
              "      <td>0.602041</td>\n",
              "      <td>0.0</td>\n",
              "      <td>0.914461</td>\n",
              "      <td>0.620157</td>\n",
              "      <td>0.714930</td>\n",
              "      <td>0.817083</td>\n",
              "      <td>0.432713</td>\n",
              "      <td>0.224436</td>\n",
              "      <td>0.672905</td>\n",
              "      <td>0.101840</td>\n",
              "      <td>0.376366</td>\n",
              "      <td>0.725490</td>\n",
              "      <td>0.0</td>\n",
              "      <td>0.0</td>\n",
              "      <td>2011</td>\n",
              "    </tr>\n",
              "    <tr>\n",
              "      <th>26175</th>\n",
              "      <td>0.045455</td>\n",
              "      <td>0.448980</td>\n",
              "      <td>0.0</td>\n",
              "      <td>0.013624</td>\n",
              "      <td>0.480724</td>\n",
              "      <td>0.021042</td>\n",
              "      <td>0.693787</td>\n",
              "      <td>0.696427</td>\n",
              "      <td>0.088778</td>\n",
              "      <td>0.545715</td>\n",
              "      <td>0.875328</td>\n",
              "      <td>0.334388</td>\n",
              "      <td>0.117647</td>\n",
              "      <td>0.0</td>\n",
              "      <td>1.0</td>\n",
              "      <td>2010</td>\n",
              "    </tr>\n",
              "  </tbody>\n",
              "</table>\n",
              "</div>"
            ],
            "text/plain": [
              "           Store      Dept  IsHoliday      Size  Temperature  Fuel_Price  \\\n",
              "233571  0.522727  0.551020        0.0  0.914461     0.565656    0.861723   \n",
              "88992   0.204545  0.102041        0.0  0.496013     0.692955    0.329659   \n",
              "367842  0.863636  0.591837        0.0  0.807775     0.834638    0.090681   \n",
              "184359  0.409091  0.602041        0.0  0.914461     0.620157    0.714930   \n",
              "26175   0.045455  0.448980        0.0  0.013624     0.480724    0.021042   \n",
              "\n",
              "        MarkDown1  MarkDown2  MarkDown3  MarkDown5       CPI  Unemployment  \\\n",
              "233571   0.865404   0.455363   0.443000   0.627616  0.083527      0.415277   \n",
              "88992    0.805416   0.360259   0.387339   0.496319  0.003681      0.491087   \n",
              "367842   0.781498   0.476005   0.057754   0.802748  0.830627      0.439429   \n",
              "184359   0.817083   0.432713   0.224436   0.672905  0.101840      0.376366   \n",
              "26175    0.693787   0.696427   0.088778   0.545715  0.875328      0.334388   \n",
              "\n",
              "            Week  Type_B  Type_C  Year  \n",
              "233571  0.333333     0.0     0.0  2011  \n",
              "88992   0.823529     1.0     0.0  2010  \n",
              "367842  0.470588     0.0     0.0  2010  \n",
              "184359  0.725490     0.0     0.0  2011  \n",
              "26175   0.117647     0.0     1.0  2010  "
            ]
          },
          "metadata": {
            "tags": []
          }
        }
      ]
    },
    {
      "cell_type": "code",
      "metadata": {
        "id": "QoJno_cvQTKN",
        "colab": {
          "base_uri": "https://localhost:8080/",
          "height": 222
        },
        "outputId": "7435490e-84e3-425f-b335-ba081e576b6a"
      },
      "source": [
        "test_scaled = pd.DataFrame(data = test)\n",
        "test_scaled[numerical] = scaler.transform(test[numerical])\n",
        "\n",
        "# Show an example of a record with scaling applied\n",
        "display(test_scaled.head(n = 5))"
      ],
      "execution_count": 94,
      "outputs": [
        {
          "output_type": "display_data",
          "data": {
            "text/html": [
              "<div>\n",
              "<style scoped>\n",
              "    .dataframe tbody tr th:only-of-type {\n",
              "        vertical-align: middle;\n",
              "    }\n",
              "\n",
              "    .dataframe tbody tr th {\n",
              "        vertical-align: top;\n",
              "    }\n",
              "\n",
              "    .dataframe thead th {\n",
              "        text-align: right;\n",
              "    }\n",
              "</style>\n",
              "<table border=\"1\" class=\"dataframe\">\n",
              "  <thead>\n",
              "    <tr style=\"text-align: right;\">\n",
              "      <th></th>\n",
              "      <th>Store</th>\n",
              "      <th>Dept</th>\n",
              "      <th>IsHoliday</th>\n",
              "      <th>Size</th>\n",
              "      <th>Temperature</th>\n",
              "      <th>Fuel_Price</th>\n",
              "      <th>MarkDown1</th>\n",
              "      <th>MarkDown2</th>\n",
              "      <th>MarkDown3</th>\n",
              "      <th>MarkDown5</th>\n",
              "      <th>CPI</th>\n",
              "      <th>Unemployment</th>\n",
              "      <th>Week</th>\n",
              "      <th>Type_B</th>\n",
              "      <th>Type_C</th>\n",
              "      <th>Year</th>\n",
              "    </tr>\n",
              "  </thead>\n",
              "  <tbody>\n",
              "    <tr>\n",
              "      <th>0</th>\n",
              "      <td>0.0</td>\n",
              "      <td>0.0</td>\n",
              "      <td>0.0</td>\n",
              "      <td>0.630267</td>\n",
              "      <td>0.561448</td>\n",
              "      <td>0.457916</td>\n",
              "      <td>0.774188</td>\n",
              "      <td>0.739500</td>\n",
              "      <td>0.331330</td>\n",
              "      <td>0.583883</td>\n",
              "      <td>0.962735</td>\n",
              "      <td>0.258194</td>\n",
              "      <td>0.843137</td>\n",
              "      <td>0.0</td>\n",
              "      <td>0.0</td>\n",
              "      <td>2012</td>\n",
              "    </tr>\n",
              "    <tr>\n",
              "      <th>1</th>\n",
              "      <td>0.0</td>\n",
              "      <td>0.0</td>\n",
              "      <td>0.0</td>\n",
              "      <td>0.630267</td>\n",
              "      <td>0.619374</td>\n",
              "      <td>0.421844</td>\n",
              "      <td>0.820135</td>\n",
              "      <td>0.702875</td>\n",
              "      <td>0.312245</td>\n",
              "      <td>0.643629</td>\n",
              "      <td>0.962918</td>\n",
              "      <td>0.258194</td>\n",
              "      <td>0.862745</td>\n",
              "      <td>0.0</td>\n",
              "      <td>0.0</td>\n",
              "      <td>2012</td>\n",
              "    </tr>\n",
              "    <tr>\n",
              "      <th>2</th>\n",
              "      <td>0.0</td>\n",
              "      <td>0.0</td>\n",
              "      <td>0.0</td>\n",
              "      <td>0.630267</td>\n",
              "      <td>0.537965</td>\n",
              "      <td>0.390782</td>\n",
              "      <td>0.805763</td>\n",
              "      <td>0.491516</td>\n",
              "      <td>0.390422</td>\n",
              "      <td>0.648929</td>\n",
              "      <td>0.963231</td>\n",
              "      <td>0.258194</td>\n",
              "      <td>0.882353</td>\n",
              "      <td>0.0</td>\n",
              "      <td>0.0</td>\n",
              "      <td>2012</td>\n",
              "    </tr>\n",
              "    <tr>\n",
              "      <th>3</th>\n",
              "      <td>0.0</td>\n",
              "      <td>0.0</td>\n",
              "      <td>1.0</td>\n",
              "      <td>0.630267</td>\n",
              "      <td>0.570352</td>\n",
              "      <td>0.370240</td>\n",
              "      <td>0.595582</td>\n",
              "      <td>0.142152</td>\n",
              "      <td>0.942015</td>\n",
              "      <td>0.421811</td>\n",
              "      <td>0.963716</td>\n",
              "      <td>0.258194</td>\n",
              "      <td>0.901961</td>\n",
              "      <td>0.0</td>\n",
              "      <td>0.0</td>\n",
              "      <td>2012</td>\n",
              "    </tr>\n",
              "    <tr>\n",
              "      <th>4</th>\n",
              "      <td>0.0</td>\n",
              "      <td>0.0</td>\n",
              "      <td>0.0</td>\n",
              "      <td>0.630267</td>\n",
              "      <td>0.532290</td>\n",
              "      <td>0.368236</td>\n",
              "      <td>0.685397</td>\n",
              "      <td>0.000000</td>\n",
              "      <td>0.692664</td>\n",
              "      <td>0.652772</td>\n",
              "      <td>0.964200</td>\n",
              "      <td>0.258194</td>\n",
              "      <td>0.921569</td>\n",
              "      <td>0.0</td>\n",
              "      <td>0.0</td>\n",
              "      <td>2012</td>\n",
              "    </tr>\n",
              "  </tbody>\n",
              "</table>\n",
              "</div>"
            ],
            "text/plain": [
              "   Store  Dept  IsHoliday      Size  Temperature  Fuel_Price  MarkDown1  \\\n",
              "0    0.0   0.0        0.0  0.630267     0.561448    0.457916   0.774188   \n",
              "1    0.0   0.0        0.0  0.630267     0.619374    0.421844   0.820135   \n",
              "2    0.0   0.0        0.0  0.630267     0.537965    0.390782   0.805763   \n",
              "3    0.0   0.0        1.0  0.630267     0.570352    0.370240   0.595582   \n",
              "4    0.0   0.0        0.0  0.630267     0.532290    0.368236   0.685397   \n",
              "\n",
              "   MarkDown2  MarkDown3  MarkDown5       CPI  Unemployment      Week  Type_B  \\\n",
              "0   0.739500   0.331330   0.583883  0.962735      0.258194  0.843137     0.0   \n",
              "1   0.702875   0.312245   0.643629  0.962918      0.258194  0.862745     0.0   \n",
              "2   0.491516   0.390422   0.648929  0.963231      0.258194  0.882353     0.0   \n",
              "3   0.142152   0.942015   0.421811  0.963716      0.258194  0.901961     0.0   \n",
              "4   0.000000   0.692664   0.652772  0.964200      0.258194  0.921569     0.0   \n",
              "\n",
              "   Type_C  Year  \n",
              "0     0.0  2012  \n",
              "1     0.0  2012  \n",
              "2     0.0  2012  \n",
              "3     0.0  2012  \n",
              "4     0.0  2012  "
            ]
          },
          "metadata": {
            "tags": []
          }
        }
      ]
    },
    {
      "cell_type": "code",
      "metadata": {
        "id": "fJW5MGEBQXLv"
      },
      "source": [
        "# Free up memory\n",
        "train = test = features = stores = None"
      ],
      "execution_count": 95,
      "outputs": []
    },
    {
      "cell_type": "code",
      "metadata": {
        "id": "-5A3zmwpQaIp"
      },
      "source": [
        "# Create checkpoint\n",
        "train_scaled.to_csv('train_X_scaled.csv', index=False)\n",
        "val_scaled.to_csv('val_X_scaled.csv', index=False)\n",
        "train_y.to_csv('train_y.csv', index=False, header=['Weekly_Sales'])\n",
        "val_y.to_csv('val_y.csv', index=False, header=['Weekly_Sales'])\n",
        "test_scaled.to_csv('test_X_scaled.csv', index=False)"
      ],
      "execution_count": 96,
      "outputs": []
    },
    {
      "cell_type": "code",
      "metadata": {
        "id": "7ghGIh4gQpPt"
      },
      "source": [
        "# Restore checkpoint\n",
        "train_scaled = pd.read_csv(\"train_X_scaled.csv\")\n",
        "val_scaled = pd.read_csv(\"val_X_scaled.csv\")\n",
        "train_y = pd.read_csv(\"train_y.csv\")\n",
        "val_y = pd.read_csv(\"val_y.csv\")\n",
        "test_scaled = pd.read_csv(\"test_X_scaled.csv\")"
      ],
      "execution_count": 97,
      "outputs": []
    },
    {
      "cell_type": "code",
      "metadata": {
        "id": "9xjrCh3QQttq"
      },
      "source": [
        "# Reduce memory usage\n",
        "#train_scaled=reduce_mem_usage(train_scaled)\n",
        "#test_scaled=reduce_mem_usage(test_scaled)"
      ],
      "execution_count": 98,
      "outputs": []
    },
    {
      "cell_type": "code",
      "metadata": {
        "id": "dwu0f9vcQv2J"
      },
      "source": [
        "train_X = train_scaled\n",
        "val_X = val_scaled"
      ],
      "execution_count": 99,
      "outputs": []
    },
    {
      "cell_type": "code",
      "metadata": {
        "id": "ukDzxBXzQ1ya"
      },
      "source": [
        "# Free up memory\n",
        "train_scaled = val_scaled = None"
      ],
      "execution_count": 100,
      "outputs": []
    },
    {
      "cell_type": "code",
      "metadata": {
        "id": "UVhN31xTQ4rC"
      },
      "source": [
        "# Convert Dataframe to Series\n",
        "train_y = train_y.iloc[:,0]\n",
        "val_y = val_y.iloc[:,0]"
      ],
      "execution_count": 101,
      "outputs": []
    },
    {
      "cell_type": "markdown",
      "metadata": {
        "id": "SqqAGMlTQ8wK"
      },
      "source": [
        "**Modeling**\n",
        "\n",
        "**Select and evaluate candidate models**\n"
      ]
    },
    {
      "cell_type": "code",
      "metadata": {
        "id": "vzr4dV-MRH96",
        "colab": {
          "base_uri": "https://localhost:8080/"
        },
        "outputId": "96affc7c-d59f-4560-c29c-43e7d617f631"
      },
      "source": [
        "%%time\n",
        "# Initialize base models\n",
        "model_A = LinearRegression()\n",
        "model_B = ElasticNet(random_state=1)\n",
        "model_C = RandomForestRegressor(random_state=1)\n",
        "model_D = GradientBoostingRegressor(random_state=1)\n",
        "model_E = xgb.XGBRegressor()\n",
        "model_F = LGBMRegressor(random_state=1)\n",
        "\n",
        "samples = len(train_y) # 100% of training set\n",
        "\n",
        "# Collect results on the learners\n",
        "results = {}\n",
        "for model in [model_A, model_B, model_C, model_D, model_E, model_F]:\n",
        "    model_name = model.__class__.__name__\n",
        "    results[model_name] = {}\n",
        "    for i, samples in enumerate([samples]):\n",
        "        results[model_name][i] = eval_train_predict(model, samples, train_X, train_y, val_X, val_y, 'log', log_constant)"
      ],
      "execution_count": 102,
      "outputs": [
        {
          "output_type": "stream",
          "text": [
            "LinearRegression trained on 337256 samples.\n",
            "ElasticNet trained on 337256 samples.\n",
            "RandomForestRegressor trained on 337256 samples.\n",
            "GradientBoostingRegressor trained on 337256 samples.\n",
            "[15:53:20] WARNING: /workspace/src/objective/regression_obj.cu:152: reg:linear is now deprecated in favor of reg:squarederror.\n",
            "XGBRegressor trained on 337256 samples.\n",
            "LGBMRegressor trained on 337256 samples.\n",
            "CPU times: user 8min 35s, sys: 2.48 s, total: 8min 38s\n",
            "Wall time: 8min 39s\n"
          ],
          "name": "stdout"
        }
      ]
    },
    {
      "cell_type": "code",
      "metadata": {
        "id": "IWQgbfgoVbyp",
        "colab": {
          "base_uri": "https://localhost:8080/",
          "height": 1000
        },
        "outputId": "3f3ad48f-0021-4518-8d66-0c4f03d29a51"
      },
      "source": [
        "# Evaluate Metrics\n",
        "eval_visualize(results)"
      ],
      "execution_count": 103,
      "outputs": [
        {
          "output_type": "display_data",
          "data": {
            "image/png": "[encoded data removed]",
            "text/plain": [
              "<Figure size 1296x576 with 3 Axes>"
            ]
          },
          "metadata": {
            "tags": []
          }
        }
      ]
    },
    {
      "cell_type": "code",
      "metadata": {
        "id": "s_A5nztubv8q",
        "colab": {
          "base_uri": "https://localhost:8080/"
        },
        "outputId": "34d384ed-f048-4535-d05f-7e263a156772"
      },
      "source": [
        "results"
      ],
      "execution_count": 104,
      "outputs": [
        {
          "output_type": "execute_result",
          "data": {
            "text/plain": [
              "{'ElasticNet': {0: {'WMAE': 13874.268546310475,\n",
              "   'time_pred': 0.006517887115478516,\n",
              "   'time_train': 0.06782221794128418}},\n",
              " 'GradientBoostingRegressor': {0: {'WMAE': 7813.675837167311,\n",
              "   'time_pred': 0.15940260887145996,\n",
              "   'time_train': 89.71347045898438}},\n",
              " 'LGBMRegressor': {0: {'WMAE': 4961.648932996021,\n",
              "   'time_pred': 0.5945346355438232,\n",
              "   'time_train': 4.609474420547485}},\n",
              " 'LinearRegression': {0: {'WMAE': 13288.278997851769,\n",
              "   'time_pred': 0.007353305816650391,\n",
              "   'time_train': 0.20975494384765625}},\n",
              " 'RandomForestRegressor': {0: {'WMAE': 1545.8138546240077,\n",
              "   'time_pred': 6.483994007110596,\n",
              "   'time_train': 391.24411129951477}},\n",
              " 'XGBRegressor': {0: {'WMAE': 7843.392915432837,\n",
              "   'time_pred': 0.26911067962646484,\n",
              "   'time_train': 25.491077661514282}}}"
            ]
          },
          "metadata": {
            "tags": []
          },
          "execution_count": 104
        }
      ]
    },
    {
      "cell_type": "markdown",
      "metadata": {
        "id": "vbwiiF1ucDiC"
      },
      "source": [
        "Takeaway: With respect to WMAE, Random Forest and Light GBM have turned out to be the top performing base models and would be further evaluated."
      ]
    },
    {
      "cell_type": "markdown",
      "metadata": {
        "id": "ZY2MTMTccG7r"
      },
      "source": [
        "**Evaluate Random Forest (Ensemble)**\n"
      ]
    },
    {
      "cell_type": "markdown",
      "metadata": {
        "id": "TnA-kYGTcMTE"
      },
      "source": [
        "Default Model"
      ]
    },
    {
      "cell_type": "code",
      "metadata": {
        "id": "lUyOpDUdcO0M"
      },
      "source": [
        "model_rf_base = RandomForestRegressor(random_state=42, verbose=1)"
      ],
      "execution_count": 105,
      "outputs": []
    },
    {
      "cell_type": "code",
      "metadata": {
        "id": "X3iQFvLycRm3",
        "colab": {
          "base_uri": "https://localhost:8080/",
          "height": 925
        },
        "outputId": "2df4be18-d3ae-453c-c6dd-69350dbf1173"
      },
      "source": [
        "model_rf_base, pred_y_rf_val = train_predict(model_rf_base, train_X, train_y, val_X, val_y, 'log', log_constant, verbose=1)"
      ],
      "execution_count": 106,
      "outputs": [
        {
          "output_type": "stream",
          "text": [
            "[Parallel(n_jobs=1)]: Using backend SequentialBackend with 1 concurrent workers.\n",
            "[Parallel(n_jobs=1)]: Done 100 out of 100 | elapsed:  6.6min finished\n",
            "[Parallel(n_jobs=1)]: Using backend SequentialBackend with 1 concurrent workers.\n",
            "[Parallel(n_jobs=1)]: Done 100 out of 100 | elapsed:    7.2s finished\n"
          ],
          "name": "stderr"
        },
        {
          "output_type": "stream",
          "text": [
            "Learner Name : RandomForestRegressor\n",
            "Training     : 397.31 secs / 337256 records\n",
            "Predicting   : 7.24 secs / 84314 records\n",
            "Weighted MAE : 1550.19\n",
            "\n",
            "<Feature Importance>\n",
            "\n"
          ],
          "name": "stdout"
        },
        {
          "output_type": "display_data",
          "data": {
            "image/png": "[encoded data removed]",
            "text/plain": [
              "<Figure size 1296x360 with 1 Axes>"
            ]
          },
          "metadata": {
            "tags": []
          }
        },
        {
          "output_type": "stream",
          "text": [
            "\n",
            "<Feature Weightage>\n",
            "\n",
            "\tDept           : 0.7117518806513901\n",
            "\tSize           : 0.12884645811519552\n",
            "\tStore          : 0.057417556897736366\n",
            "\tWeek           : 0.027724827893428776\n",
            "\tCPI            : 0.01617796564337482\n",
            "\tType_B         : 0.011949830320988055\n",
            "\tUnemployment   : 0.010520212600232452\n",
            "\tFuel_Price     : 0.008304267589249011\n",
            "\tTemperature    : 0.0080475025747379\n",
            "\tMarkDown3      : 0.0042500478080505074\n",
            "\tMarkDown1      : 0.003978917855592024\n",
            "\tMarkDown5      : 0.0037626727250908354\n",
            "\tYear           : 0.0034439584865141658\n",
            "\tMarkDown2      : 0.0030695994271181847\n",
            "\tIsHoliday      : 0.00038702480583315864\n",
            "\tType_C         : 0.0003672766054682501\n",
            "\n",
            "<Learner Params>\n",
            " {'boosting_type': 'gbdt', 'class_weight': None, 'colsample_bytree': 1.0, 'importance_type': 'split', 'learning_rate': 0.1, 'max_depth': -1, 'min_child_samples': 20, 'min_child_weight': 0.001, 'min_split_gain': 0.0, 'n_estimators': 100, 'n_jobs': -1, 'num_leaves': 31, 'objective': None, 'random_state': 1, 'reg_alpha': 0.0, 'reg_lambda': 0.0, 'silent': True, 'subsample': 1.0, 'subsample_for_bin': 200000, 'subsample_freq': 0}\n"
          ],
          "name": "stdout"
        }
      ]
    },
    {
      "cell_type": "code",
      "metadata": {
        "id": "k8CLPsaecYt7",
        "colab": {
          "base_uri": "https://localhost:8080/"
        },
        "outputId": "bfe1ba90-8bf1-4f4e-8f11-06e925f38259"
      },
      "source": [
        "pred_y_rf_test = model_rf_base.predict(test_scaled)"
      ],
      "execution_count": 107,
      "outputs": [
        {
          "output_type": "stream",
          "text": [
            "[Parallel(n_jobs=1)]: Using backend SequentialBackend with 1 concurrent workers.\n",
            "[Parallel(n_jobs=1)]: Done 100 out of 100 | elapsed:    2.6s finished\n"
          ],
          "name": "stderr"
        }
      ]
    },
    {
      "cell_type": "code",
      "metadata": {
        "id": "b47wxLM_3wla"
      },
      "source": [
        "# train_mX = train_X.drop(['Type_C','Year','MarkDown5','MarkDown1','MarkDown2','MarkDown3',\n",
        "#                          'Temperature','Fuel_Price'],axis=1)\n",
        "# val_mX = val_X.drop(['Type_C','Year','MarkDown5','MarkDown1','MarkDown2','MarkDown3',\n",
        "#                      'Temperature','Fuel_Price'],axis=1)"
      ],
      "execution_count": 108,
      "outputs": []
    },
    {
      "cell_type": "code",
      "metadata": {
        "id": "UMkANa-Z5Fvu"
      },
      "source": [
        "# model_rf_m_base = RandomForestRegressor(random_state=42, verbose=1)\n",
        "# model_rf_m_base, pred_y_rf_val = train_predict(model_rf_m_base, train_mX, train_y, val_mX, val_y, 'log', log_constant, verbose=1)"
      ],
      "execution_count": 109,
      "outputs": []
    },
    {
      "cell_type": "code",
      "metadata": {
        "id": "mE9dnGmpcb4G"
      },
      "source": [
        "param_grid = { \n",
        "    'n_estimators': [10, 50, 100, 150],\n",
        "    'max_features': [None, 'auto'],\n",
        "    'bootstrap': [True, False],\n",
        "    'max_depth':[None],\n",
        "    'random_state': [42], \n",
        "    'verbose': [1]\n",
        "}"
      ],
      "execution_count": 110,
      "outputs": []
    },
    {
      "cell_type": "code",
      "metadata": {
        "id": "ani0Rkmochfp",
        "colab": {
          "base_uri": "https://localhost:8080/"
        },
        "outputId": "55f1d976-6290-4779-89c8-776be547ec31"
      },
      "source": [
        "%%time\n",
        "# CV = GridSearchCV(estimator=model_rf_base, param_grid=param_grid, cv=2, verbose=1)\n",
        "# CV.fit(train_X, train_y)"
      ],
      "execution_count": 111,
      "outputs": [
        {
          "output_type": "stream",
          "text": [
            "CPU times: user 4 µs, sys: 1 µs, total: 5 µs\n",
            "Wall time: 7.39 µs\n"
          ],
          "name": "stdout"
        }
      ]
    },
    {
      "cell_type": "code",
      "metadata": {
        "id": "rVilN3htc905"
      },
      "source": [
        "# CV.best_params_ # latest"
      ],
      "execution_count": 112,
      "outputs": []
    },
    {
      "cell_type": "code",
      "metadata": {
        "id": "K1jbKP_3dB2A"
      },
      "source": [
        "# Using best params from GridSearch\n",
        "# model.set_params(**CV.best_params_)"
      ],
      "execution_count": 113,
      "outputs": []
    },
    {
      "cell_type": "markdown",
      "metadata": {
        "id": "w4Dxy96JdFXg"
      },
      "source": [
        "**Tuned Model**"
      ]
    },
    {
      "cell_type": "code",
      "metadata": {
        "id": "nIC21MzVdIb3"
      },
      "source": [
        "model = RandomForestRegressor(random_state=42, \n",
        "                              n_estimators=150, \n",
        "                              bootstrap=True, \n",
        "                              max_features=None, \n",
        "                              max_depth=None, \n",
        "                              min_samples_leaf=1,\n",
        "                              min_samples_split=3,\n",
        "                              verbose=1)"
      ],
      "execution_count": 114,
      "outputs": []
    },
    {
      "cell_type": "code",
      "metadata": {
        "id": "P-9din3pfZ8h",
        "colab": {
          "base_uri": "https://localhost:8080/",
          "height": 925
        },
        "outputId": "39c2f6b5-404d-4d54-e3a9-255a050de8e0"
      },
      "source": [
        "model, pred_y_rf_val = train_predict(model, train_X, train_y, val_X, val_y, 'log', log_constant, verbose=1)"
      ],
      "execution_count": 115,
      "outputs": [
        {
          "output_type": "stream",
          "text": [
            "[Parallel(n_jobs=1)]: Using backend SequentialBackend with 1 concurrent workers.\n",
            "[Parallel(n_jobs=1)]: Done 150 out of 150 | elapsed:  9.9min finished\n",
            "[Parallel(n_jobs=1)]: Using backend SequentialBackend with 1 concurrent workers.\n",
            "[Parallel(n_jobs=1)]: Done 150 out of 150 | elapsed:   10.5s finished\n"
          ],
          "name": "stderr"
        },
        {
          "output_type": "stream",
          "text": [
            "Learner Name : RandomForestRegressor\n",
            "Training     : 593.72 secs / 337256 records\n",
            "Predicting   : 10.53 secs / 84314 records\n",
            "Weighted MAE : 1546.0\n",
            "\n",
            "<Feature Importance>\n",
            "\n"
          ],
          "name": "stdout"
        },
        {
          "output_type": "display_data",
          "data": {
            "image/png": "[encoded data removed]",
            "text/plain": [
              "<Figure size 1296x360 with 1 Axes>"
            ]
          },
          "metadata": {
            "tags": []
          }
        },
        {
          "output_type": "stream",
          "text": [
            "\n",
            "<Feature Weightage>\n",
            "\n",
            "\tDept           : 0.7123570840194748\n",
            "\tSize           : 0.12939628992401284\n",
            "\tStore          : 0.057547061912180605\n",
            "\tWeek           : 0.02778222880607333\n",
            "\tCPI            : 0.01620122701743069\n",
            "\tType_B         : 0.011320964957148648\n",
            "\tUnemployment   : 0.010442954748978038\n",
            "\tFuel_Price     : 0.008194754769277755\n",
            "\tTemperature    : 0.007871640341647963\n",
            "\tMarkDown3      : 0.004154886607068522\n",
            "\tMarkDown1      : 0.003906563848142401\n",
            "\tMarkDown5      : 0.0036725249489232567\n",
            "\tYear           : 0.0033997389770308133\n",
            "\tMarkDown2      : 0.0030185327478336648\n",
            "\tIsHoliday      : 0.0003766423550115773\n",
            "\tType_C         : 0.00035690401976506655\n",
            "\n",
            "<Learner Params>\n",
            " {'bootstrap': True, 'ccp_alpha': 0.0, 'criterion': 'mse', 'max_depth': None, 'max_features': None, 'max_leaf_nodes': None, 'max_samples': None, 'min_impurity_decrease': 0.0, 'min_impurity_split': None, 'min_samples_leaf': 1, 'min_samples_split': 3, 'min_weight_fraction_leaf': 0.0, 'n_estimators': 150, 'n_jobs': None, 'oob_score': False, 'random_state': 42, 'verbose': 1, 'warm_start': False}\n"
          ],
          "name": "stdout"
        }
      ]
    },
    {
      "cell_type": "code",
      "metadata": {
        "id": "W-Bg6VUdjo8m",
        "colab": {
          "base_uri": "https://localhost:8080/"
        },
        "outputId": "72825c06-df18-4d3b-e9e5-86df49956158"
      },
      "source": [
        "pred_y_rf_test = model.predict(test_scaled)"
      ],
      "execution_count": 116,
      "outputs": [
        {
          "output_type": "stream",
          "text": [
            "[Parallel(n_jobs=1)]: Using backend SequentialBackend with 1 concurrent workers.\n",
            "[Parallel(n_jobs=1)]: Done 150 out of 150 | elapsed:    3.8s finished\n"
          ],
          "name": "stderr"
        }
      ]
    },
    {
      "cell_type": "markdown",
      "metadata": {
        "id": "vpNfyPxxj85M"
      },
      "source": [
        "**Evaluate Light GBM (Boosting)**"
      ]
    },
    {
      "cell_type": "markdown",
      "metadata": {
        "id": "0dJHSKb9kBBx"
      },
      "source": [
        "Default Model"
      ]
    },
    {
      "cell_type": "code",
      "metadata": {
        "id": "np78hTd1j7wA"
      },
      "source": [
        "# Default model\n",
        "model = LGBMRegressor()"
      ],
      "execution_count": 117,
      "outputs": []
    },
    {
      "cell_type": "code",
      "metadata": {
        "id": "6J9tUv46kFeu",
        "colab": {
          "base_uri": "https://localhost:8080/",
          "height": 855
        },
        "outputId": "43afdc81-0d3a-4e89-a63d-6631882a5698"
      },
      "source": [
        "model, pred_y_lgbm_val = train_predict(model, train_X, train_y, val_X, val_y, 'log', log_constant, verbose=1)"
      ],
      "execution_count": 118,
      "outputs": [
        {
          "output_type": "stream",
          "text": [
            "Learner Name : LGBMRegressor\n",
            "Training     : 4.74 secs / 337256 records\n",
            "Predicting   : 0.6 secs / 84314 records\n",
            "Weighted MAE : 4952.0\n",
            "\n",
            "<Feature Importance>\n",
            "\n"
          ],
          "name": "stdout"
        },
        {
          "output_type": "display_data",
          "data": {
            "image/png": "[encoded data removed]",
            "text/plain": [
              "<Figure size 1296x360 with 1 Axes>"
            ]
          },
          "metadata": {
            "tags": []
          }
        },
        {
          "output_type": "stream",
          "text": [
            "\n",
            "<Feature Weightage>\n",
            "\n",
            "\tDept           : 1842\n",
            "\tSize           : 346\n",
            "\tStore          : 307\n",
            "\tWeek           : 177\n",
            "\tCPI            : 76\n",
            "\tUnemployment   : 56\n",
            "\tType_B         : 41\n",
            "\tFuel_Price     : 33\n",
            "\tYear           : 30\n",
            "\tMarkDown1      : 29\n",
            "\tTemperature    : 26\n",
            "\tMarkDown3      : 21\n",
            "\tIsHoliday      : 10\n",
            "\tType_C         : 4\n",
            "\tMarkDown5      : 1\n",
            "\tMarkDown2      : 1\n",
            "\n",
            "<Learner Params>\n",
            " {'boosting_type': 'gbdt', 'class_weight': None, 'colsample_bytree': 1.0, 'importance_type': 'split', 'learning_rate': 0.1, 'max_depth': -1, 'min_child_samples': 20, 'min_child_weight': 0.001, 'min_split_gain': 0.0, 'n_estimators': 100, 'n_jobs': -1, 'num_leaves': 31, 'objective': None, 'random_state': None, 'reg_alpha': 0.0, 'reg_lambda': 0.0, 'silent': True, 'subsample': 1.0, 'subsample_for_bin': 200000, 'subsample_freq': 0}\n"
          ],
          "name": "stdout"
        }
      ]
    },
    {
      "cell_type": "code",
      "metadata": {
        "id": "vqgVaHSjkLol"
      },
      "source": [
        "param_grid = {\n",
        "    'boosting_type': ['gbdt'], \n",
        "    'objective': ['regression'],\n",
        "    'random_state': [42],\n",
        "    'min_data_in_leaf':[3],\n",
        "    'min_depth':[2],\n",
        "    'learning_rate': [0.3],\n",
        "    #'n_estimators': [1000, 3000],\n",
        "    'n_estimators': [3000],\n",
        "    #'num_leaves': [60, 70, 80],\n",
        "    'max_bin': [150,200,255,300]\n",
        "}"
      ],
      "execution_count": 119,
      "outputs": []
    },
    {
      "cell_type": "code",
      "metadata": {
        "id": "k8VvWsCekQGS"
      },
      "source": [
        "# %%time\n",
        "# CV_lgbm = GridSearchCV(estimator=model, param_grid=param_grid, cv=3, verbose=1, scoring='neg_mean_absolute_error')\n",
        "# CV = GridSearchCV(estimator=model, param_grid=param_grid, cv=3, verbose=1)\n",
        "# CV.fit(train_X, train_y)"
      ],
      "execution_count": 120,
      "outputs": []
    },
    {
      "cell_type": "code",
      "metadata": {
        "id": "vEq0ewe7nqf5"
      },
      "source": [
        "# print(\"Best parameter (CV score=%0.3f):\" % CV.best_score_)\n",
        "# print(CV.best_params_)"
      ],
      "execution_count": 121,
      "outputs": []
    },
    {
      "cell_type": "code",
      "metadata": {
        "id": "W9dTtTUsnyLu"
      },
      "source": [
        "# Using best params from GridSearch\n",
        "# model.set_params(**CV.best_params_)"
      ],
      "execution_count": 122,
      "outputs": []
    },
    {
      "cell_type": "markdown",
      "metadata": {
        "id": "95L53LdqoG5Z"
      },
      "source": [
        "Tuned Model"
      ]
    },
    {
      "cell_type": "code",
      "metadata": {
        "id": "Ww1N_Gl7pxpp"
      },
      "source": [
        "model = LGBMRegressor(boosting_type='gbdt', class_weight=None, colsample_bytree=1.0, \n",
        "                      importance_type='split', learning_rate=0.3, max_depth=-1, min_child_samples=5, \n",
        "                      min_child_weight=0.001, min_data_in_leaf=2, min_depth=3, min_split_gain=0.0, \n",
        "                      n_estimators=3000, n_jobs=-1, num_leaves=80, objective='regression', \n",
        "                      random_state=42, reg_alpha=0.1, reg_lambda=2, silent=True, \n",
        "                      subsample=1.0, subsample_for_bin=200000, subsample_freq=0, \n",
        "                      verbose=1)"
      ],
      "execution_count": 123,
      "outputs": []
    },
    {
      "cell_type": "markdown",
      "metadata": {
        "id": "WmtUszlaqrBu"
      },
      "source": [
        "Weighted MAE: 1478.13"
      ]
    },
    {
      "cell_type": "code",
      "metadata": {
        "id": "45gYoAAboGKU"
      },
      "source": [
        "model = LGBMRegressor(boosting_type='gbdt', class_weight=None, colsample_bytree=1.0,\n",
        "       importance_type='split', learning_rate=0.3, max_bin=150,\n",
        "       max_depth=-1, min_child_samples=5, min_child_weight=0.001,\n",
        "       min_data_in_leaf=3, min_depth=2, min_split_gain=0.0,\n",
        "       n_estimators=3000, n_jobs=-1, num_leaves=80, objective='regression',\n",
        "       random_state=42, reg_alpha=0.1, reg_lambda=2, silent=True,\n",
        "       subsample=1.0, subsample_for_bin=200000, subsample_freq=0,\n",
        "       verbose=1)"
      ],
      "execution_count": 124,
      "outputs": []
    },
    {
      "cell_type": "markdown",
      "metadata": {
        "id": "ofcM8wtqrg38"
      },
      "source": [
        "Weighted MAE: 1481.11"
      ]
    },
    {
      "cell_type": "code",
      "metadata": {
        "id": "kGBtbPAwoLkY",
        "colab": {
          "base_uri": "https://localhost:8080/",
          "height": 855
        },
        "outputId": "06752ff5-c441-4180-9c64-5aaee38f0982"
      },
      "source": [
        "model, pred_y_lgbm_val = train_predict(model, train_X, train_y, val_X, val_y, 'log', log_constant, verbose=1)"
      ],
      "execution_count": 125,
      "outputs": [
        {
          "output_type": "stream",
          "text": [
            "Learner Name : LGBMRegressor\n",
            "Training     : 69.42 secs / 337256 records\n",
            "Predicting   : 20.05 secs / 84314 records\n",
            "Weighted MAE : 1481.11\n",
            "\n",
            "<Feature Importance>\n",
            "\n"
          ],
          "name": "stdout"
        },
        {
          "output_type": "display_data",
          "data": {
            "image/png": "[encoded data removed]",
            "text/plain": [
              "<Figure size 1296x360 with 1 Axes>"
            ]
          },
          "metadata": {
            "tags": []
          }
        },
        {
          "output_type": "stream",
          "text": [
            "\n",
            "<Feature Weightage>\n",
            "\n",
            "\tDept           : 64354\n",
            "\tTemperature    : 20961\n",
            "\tFuel_Price     : 20414\n",
            "\tMarkDown1      : 17070\n",
            "\tCPI            : 16620\n",
            "\tMarkDown5      : 15510\n",
            "\tMarkDown3      : 15341\n",
            "\tUnemployment   : 15278\n",
            "\tStore          : 13640\n",
            "\tWeek           : 13440\n",
            "\tSize           : 11558\n",
            "\tMarkDown2      : 10426\n",
            "\tYear           : 1331\n",
            "\tType_B         : 606\n",
            "\tIsHoliday      : 439\n",
            "\tType_C         : 12\n",
            "\n",
            "<Learner Params>\n",
            " {'boosting_type': 'gbdt', 'class_weight': None, 'colsample_bytree': 1.0, 'importance_type': 'split', 'learning_rate': 0.3, 'max_depth': -1, 'min_child_samples': 5, 'min_child_weight': 0.001, 'min_split_gain': 0.0, 'n_estimators': 3000, 'n_jobs': -1, 'num_leaves': 80, 'objective': 'regression', 'random_state': 42, 'reg_alpha': 0.1, 'reg_lambda': 2, 'silent': True, 'subsample': 1.0, 'subsample_for_bin': 200000, 'subsample_freq': 0, 'max_bin': 150, 'min_data_in_leaf': 3, 'min_depth': 2, 'verbose': 1}\n"
          ],
          "name": "stdout"
        }
      ]
    },
    {
      "cell_type": "code",
      "metadata": {
        "id": "Q--4Vk82tnMW"
      },
      "source": [
        "pred_y_lgbm_test = model.predict(test_scaled)"
      ],
      "execution_count": 126,
      "outputs": []
    },
    {
      "cell_type": "markdown",
      "metadata": {
        "id": "uM44xagytxVI"
      },
      "source": [
        "**Model Stacking**"
      ]
    },
    {
      "cell_type": "code",
      "metadata": {
        "id": "f-XaCVn2twfH"
      },
      "source": [
        "# Blend the results of the two regressors and save the prediction to a CSV file.\n",
        "pred_y_val = ((np.exp(pred_y_rf_val) - 1 - log_constant) * 0.7) + ((np.exp(pred_y_lgbm_val) - 1 - log_constant) * 0.3)\n",
        "pred_y = ((np.exp(pred_y_rf_test) - 1 - log_constant) * 0.7) + ((np.exp(pred_y_lgbm_test) - 1 - log_constant) * 0.3)"
      ],
      "execution_count": 127,
      "outputs": []
    },
    {
      "cell_type": "code",
      "metadata": {
        "id": "6jPa_369t_Qp"
      },
      "source": [
        "val_y = np.exp(val_y) - 1 - log_constant"
      ],
      "execution_count": 128,
      "outputs": []
    },
    {
      "cell_type": "code",
      "metadata": {
        "id": "9oiynJ5quBmV",
        "colab": {
          "base_uri": "https://localhost:8080/"
        },
        "outputId": "d1931177-24b0-4a2d-d940-80f113a4b45c"
      },
      "source": [
        "# make predictions\n",
        "print(\"Weighted Mean Absolute Error: \", weighted_mean_absolute_error(pred_y_val, val_y, compute_weights(val_X['IsHoliday'])))"
      ],
      "execution_count": 129,
      "outputs": [
        {
          "output_type": "stream",
          "text": [
            "Weighted Mean Absolute Error:  1363.4691465834176\n"
          ],
          "name": "stdout"
        }
      ]
    },
    {
      "cell_type": "code",
      "metadata": {
        "id": "yhjejgwVuFLr"
      },
      "source": [
        "submission['Weekly_Sales'] = pred_y"
      ],
      "execution_count": 130,
      "outputs": []
    },
    {
      "cell_type": "code",
      "metadata": {
        "id": "mIsNEVSkuHn6"
      },
      "source": [
        "submission[['Id','Weekly_Sales']].to_csv('submission.csv', index=False)"
      ],
      "execution_count": 131,
      "outputs": []
    },
    {
      "cell_type": "markdown",
      "metadata": {
        "id": "tUD4a3b2wXdX"
      },
      "source": [
        "**Competition Score**\n",
        "\n",
        "My submission has resulted in a score of 3074.94659.\n",
        "There are 688 submissions in the leaderboard and as it is a closed competition, i am unable to see my entry in the leaderboard. However, my score falls at a position of 193 in the leaderboard.\n",
        "\n",
        "Stats: (217/688) * 100 = 31.5%. Top 31.5%, that is a 10% deduction which is \n",
        "0.9*50 = 45 points  \n",
        "\n"
      ]
    },
    {
      "cell_type": "markdown",
      "metadata": {
        "id": "qoz_xYYFsZfB"
      },
      "source": [
        "**Conclusion**\n",
        "\n",
        "1.   Key takeaways are listed after each section of the analysis\n",
        "2.   RandomForestRegressor and LGBMRegressor are the better performing models among the models executed.\n",
        "3.   The predictions from both the regressors are blended in a ratio and the results are saved to a submission.csv\n",
        "\n"
      ]
    },
    {
      "cell_type": "markdown",
      "metadata": {
        "id": "djwcWe60tmsy"
      },
      "source": [
        "**Contributions**\n",
        "\n",
        "1. Models are tuned in order to optimize them using the best hyperparameters.\n",
        "2. Several code fragments are corrected and modified.\n",
        "3. Takeaways are listed for the analysis and interpretations of figures and graphs "
      ]
    },
    {
      "cell_type": "markdown",
      "metadata": {
        "id": "baFCl_GUQvCY"
      },
      "source": [
        "**Citations**\n",
        "\n",
        "1. https://www.kaggle.com/c/walmart-recruiting-store-sales-forecasting/overview\n",
        "2. https://www.kaggle.com/nitinx/storesales-randomforest-light-gbm-stacking/log\n",
        "3. https://www.kaggle.com/avelinocaio/walmart-store-sales-forecasting\n",
        "4. https://www.kaggle.com/andredornas/tp2-walmart-sales-forecast"
      ]
    },
    {
      "cell_type": "markdown",
      "metadata": {
        "id": "nypJ9nw_Qnfy"
      },
      "source": [
        "**License**\n",
        "\n",
        "**MIT License**\n",
        "\n",
        "Copyright (c) 2020 Maneendar\n",
        "\n",
        "Permission is hereby granted, free of charge, to any person obtaining a copy of this software and associated documentation files (the \"Software\"), to deal in the Software without restriction, including without limitation the rights to use, copy, modify, merge, publish, distribute, sublicense, and/or sell copies of the Software, and to permit persons to whom the Software is furnished to do so, subject to the following conditions:\n",
        "\n",
        "The above copyright notice and this permission notice shall be included in all copies or substantial portions of the Software.\n",
        "\n",
        "THE SOFTWARE IS PROVIDED \"AS IS\", WITHOUT WARRANTY OF ANY KIND, EXPRESS OR IMPLIED, INCLUDING BUT NOT LIMITED TO THE WARRANTIES OF MERCHANTABILITY, FITNESS FOR A PARTICULAR PURPOSE AND NONINFRINGEMENT. IN NO EVENT SHALL THE AUTHORS OR COPYRIGHT HOLDERS BE LIABLE FOR ANY CLAIM, DAMAGES OR OTHER LIABILITY, WHETHER IN AN ACTION OF CONTRACT, TORT OR OTHERWISE, ARISING FROM, OUT OF OR IN CONNECTION WITH THE SOFTWARE OR THE USE OR OTHER DEALINGS IN THE SOFTWARE."
      ]
    }
  ]
}